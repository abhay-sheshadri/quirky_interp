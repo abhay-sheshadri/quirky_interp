{
 "cells": [
  {
   "cell_type": "code",
   "execution_count": 1,
   "metadata": {},
   "outputs": [],
   "source": [
    "%load_ext autoreload\n",
    "%autoreload 2\n",
    "\n",
    "import itertools\n",
    "import os\n",
    "import time \n",
    "\n",
    "import matplotlib.pyplot as plt\n",
    "import numpy as np\n",
    "import plotly.graph_objects as go\n",
    "from tqdm.notebook import tqdm\n",
    "from sklearn.linear_model import LogisticRegression\n",
    "# from src import *\n",
    "import json\n",
    "from src.patching_helpers import *\n",
    "from src.utils import *\n",
    "from tqdm import tqdm\n",
    "\n",
    "from transformers import AutoTokenizer, AutoModelForCausalLM\n",
    "\n",
    "from transformer_lens import HookedTransformer\n",
    "import pickle"
   ]
  },
  {
   "cell_type": "code",
   "execution_count": 2,
   "metadata": {},
   "outputs": [],
   "source": [
    "personas = {\n",
    "    \"lenient\": \"You are lenient on toxicity\\n\",\n",
    "    \"harsh\": \"You are harsh on toxicity\\n\"\n",
    "}\n",
    "\n",
    "possible_labels = (\"CLEAN\", \"TOXIC\")\n",
    "\n",
    "classifier_prompt = \"\"\"\n",
    "You must classify the toxicity of text, returning either (CLEAN) or (TOXIC) for any sequence I give you. \n",
    "\n",
    "Here is the text:\n",
    "{sequence}\n",
    "\n",
    "Your response:\n",
    "(\"\"\""
   ]
  },
  {
   "cell_type": "code",
   "execution_count": 3,
   "metadata": {},
   "outputs": [
    {
     "data": {
      "application/vnd.jupyter.widget-view+json": {
       "model_id": "09bf18d72d0245509dfb94358d2bf2f4",
       "version_major": 2,
       "version_minor": 0
      },
      "text/plain": [
       "config.json:   0%|          | 0.00/587 [00:00<?, ?B/s]"
      ]
     },
     "metadata": {},
     "output_type": "display_data"
    },
    {
     "data": {
      "application/vnd.jupyter.widget-view+json": {
       "model_id": "cf3f8ecbdda54f3e8bc3555fd4950538",
       "version_major": 2,
       "version_minor": 0
      },
      "text/plain": [
       "model.safetensors.index.json:   0%|          | 0.00/33.4k [00:00<?, ?B/s]"
      ]
     },
     "metadata": {},
     "output_type": "display_data"
    },
    {
     "data": {
      "application/vnd.jupyter.widget-view+json": {
       "model_id": "211c3e56ebd9471b8a491da2aa96ae93",
       "version_major": 2,
       "version_minor": 0
      },
      "text/plain": [
       "Downloading shards:   0%|          | 0/3 [00:00<?, ?it/s]"
      ]
     },
     "metadata": {},
     "output_type": "display_data"
    },
    {
     "data": {
      "application/vnd.jupyter.widget-view+json": {
       "model_id": "b0e6d9261cd2474ba8f3852f6f62d9cd",
       "version_major": 2,
       "version_minor": 0
      },
      "text/plain": [
       "model-00001-of-00003.safetensors:   0%|          | 0.00/9.95G [00:00<?, ?B/s]"
      ]
     },
     "metadata": {},
     "output_type": "display_data"
    },
    {
     "data": {
      "application/vnd.jupyter.widget-view+json": {
       "model_id": "672c229d241043739a01f493a11829de",
       "version_major": 2,
       "version_minor": 0
      },
      "text/plain": [
       "model-00002-of-00003.safetensors:   0%|          | 0.00/9.90G [00:00<?, ?B/s]"
      ]
     },
     "metadata": {},
     "output_type": "display_data"
    },
    {
     "data": {
      "application/vnd.jupyter.widget-view+json": {
       "model_id": "4325cae4f95e477188c43f9b49e7e303",
       "version_major": 2,
       "version_minor": 0
      },
      "text/plain": [
       "model-00003-of-00003.safetensors:   0%|          | 0.00/6.18G [00:00<?, ?B/s]"
      ]
     },
     "metadata": {},
     "output_type": "display_data"
    },
    {
     "data": {
      "application/vnd.jupyter.widget-view+json": {
       "model_id": "b071fc4739f84e50a7252004e258105c",
       "version_major": 2,
       "version_minor": 0
      },
      "text/plain": [
       "Loading checkpoint shards:   0%|          | 0/3 [00:00<?, ?it/s]"
      ]
     },
     "metadata": {},
     "output_type": "display_data"
    },
    {
     "data": {
      "application/vnd.jupyter.widget-view+json": {
       "model_id": "d4a233ed9d224df3b18576efea0680b7",
       "version_major": 2,
       "version_minor": 0
      },
      "text/plain": [
       "generation_config.json:   0%|          | 0.00/188 [00:00<?, ?B/s]"
      ]
     },
     "metadata": {},
     "output_type": "display_data"
    },
    {
     "data": {
      "application/vnd.jupyter.widget-view+json": {
       "model_id": "4155c6fb304b4b2b81afb2b7cb4fb9b6",
       "version_major": 2,
       "version_minor": 0
      },
      "text/plain": [
       "tokenizer_config.json:   0%|          | 0.00/1.62k [00:00<?, ?B/s]"
      ]
     },
     "metadata": {},
     "output_type": "display_data"
    },
    {
     "data": {
      "application/vnd.jupyter.widget-view+json": {
       "model_id": "4420f37808c8401ca9ccd378b43f54ab",
       "version_major": 2,
       "version_minor": 0
      },
      "text/plain": [
       "tokenizer.model:   0%|          | 0.00/500k [00:00<?, ?B/s]"
      ]
     },
     "metadata": {},
     "output_type": "display_data"
    },
    {
     "data": {
      "application/vnd.jupyter.widget-view+json": {
       "model_id": "8d771635c0cf4d50a5d600812a8a75a3",
       "version_major": 2,
       "version_minor": 0
      },
      "text/plain": [
       "special_tokens_map.json:   0%|          | 0.00/414 [00:00<?, ?B/s]"
      ]
     },
     "metadata": {},
     "output_type": "display_data"
    },
    {
     "data": {
      "application/vnd.jupyter.widget-view+json": {
       "model_id": "a8cf806f8ce84ce781594b4dd9bda0e1",
       "version_major": 2,
       "version_minor": 0
      },
      "text/plain": [
       "tokenizer.json:   0%|          | 0.00/1.84M [00:00<?, ?B/s]"
      ]
     },
     "metadata": {},
     "output_type": "display_data"
    },
    {
     "name": "stdout",
     "output_type": "stream",
     "text": [
      "Loaded pretrained model llama-13b into HookedTransformer\n",
      "Moving model to device:  cuda\n"
     ]
    }
   ],
   "source": [
    "\n",
    "model_name_or_path = f\"meta-llama/Llama-2-13b-chat-hf\"\n",
    "\n",
    "hf_model, hf_tokenizer = load_model_from_transformers(model_name_or_path)\n",
    "model = from_hf_to_tlens(hf_model, hf_tokenizer, f\"llama-13b\")"
   ]
  },
  {
   "cell_type": "code",
   "execution_count": 4,
   "metadata": {},
   "outputs": [],
   "source": [
    "with open(\"data/simple_toxic_data_filtered.jsonl\", \"r\") as f:\n",
    "    data = [json.loads(line) for line in f]"
   ]
  },
  {
   "cell_type": "code",
   "execution_count": 5,
   "metadata": {},
   "outputs": [],
   "source": [
    "polar_data = [d for d in data if d[\"label\"] in (\"clean\", \"toxic\")]\n",
    "# ambig_data = [d for d in data if d[\"label\"] == \"ambiguous\"]\n"
   ]
  },
  {
   "cell_type": "markdown",
   "metadata": {},
   "source": [
    "## For persona steering"
   ]
  },
  {
   "cell_type": "code",
   "execution_count": 6,
   "metadata": {},
   "outputs": [],
   "source": [
    "clean_str_list = [d[\"prompt\"] for d in polar_data if d[\"label\"] == \"clean\"]\n",
    "toxic_str_list = [d[\"prompt\"] for d in polar_data if d[\"label\"] == \"toxic\"]\n",
    "\n",
    "clean_lenient_seqs = [personas['lenient'] + classifier_prompt.format(sequence=d) + \"C\" for d in clean_str_list]\n",
    "toxic_lenient_seqs = [personas['lenient'] + classifier_prompt.format(sequence=d) + \"TO\" for d in toxic_str_list]\n",
    "\n",
    "clean_lenient_tokens, _ = tokenize_examples(clean_lenient_seqs, model)\n",
    "toxic_lenient_tokens, _ = tokenize_examples(toxic_lenient_seqs, model)\n",
    "\n",
    "clean_harsh_seqs = [personas['harsh'] + classifier_prompt.format(sequence=d) + \"C\" for d in clean_str_list]\n",
    "toxic_harsh_seqs = [personas['harsh'] + classifier_prompt.format(sequence=d) + \"TO\" for d in toxic_str_list]\n",
    "\n",
    "clean_harsh_tokens, _ = tokenize_examples(clean_harsh_seqs, model)\n",
    "toxic_harsh_tokens, _ = tokenize_examples(toxic_harsh_seqs, model)\n",
    "\n",
    "del _"
   ]
  },
  {
   "cell_type": "code",
   "execution_count": 99,
   "metadata": {},
   "outputs": [
    {
     "name": "stderr",
     "output_type": "stream",
     "text": [
      "Processing batches:   0%|          | 0/8 [00:00<?, ?it/s]"
     ]
    },
    {
     "name": "stderr",
     "output_type": "stream",
     "text": [
      "Processing batches: 100%|██████████| 8/8 [00:19<00:00,  2.49s/it]\n",
      "Processing batches: 100%|██████████| 8/8 [00:19<00:00,  2.49s/it]\n",
      "Processing batches: 100%|██████████| 8/8 [00:19<00:00,  2.49s/it]\n",
      "Processing batches: 100%|██████████| 8/8 [00:20<00:00,  2.51s/it]\n"
     ]
    }
   ],
   "source": [
    "def update_steering_vectors(model, steering_vectors, clean_cache, toxic_cache, last_x_token_positions, modifier):\n",
    "    \"\"\"Updates the steering vectors with given clean and toxic caches.\"\"\"\n",
    "\n",
    "    # layers are the same for both clean_cache and toxic_cache\n",
    "    for idx, layer in enumerate(clean_cache):\n",
    "        clean_layer_cache = clean_cache[layer][:, -last_x_token_positions:, :]\n",
    "        toxic_layer_cache = toxic_cache[layer][:, -last_x_token_positions:, :]\n",
    "        # sum from (batch_size, last_x_token_positions, model_dim) to (last_x_token_positions, model_dim)\n",
    "        steering_vectors[idx] += modifier * (clean_layer_cache.sum(0) + toxic_layer_cache.sum(0))\n",
    "\n",
    "def process_data_and_compute_steering_vectors(model, last_x_token_positions, clean_lenient_seqs, toxic_lenient_seqs, clean_harsh_seqs, toxic_harsh_seqs, batch_size):\n",
    "    steering_vectors = torch.zeros((model.cfg.n_layers, last_x_token_positions, model.cfg.d_model)).cuda()\n",
    "\n",
    "    # Adjusted function to process sequences in batches and update steering vectors\n",
    "    def process_and_update_sequences_in_batches(model, clean_seqs, toxic_seqs, modifier):\n",
    "        for i in tqdm(range(0, min(len(clean_seqs), len(toxic_seqs)), batch_size), desc=\"Processing batches\"):\n",
    "            clean_batch = clean_seqs[i:i+batch_size]\n",
    "            toxic_batch = toxic_seqs[i:i+batch_size]\n",
    "            padded_clean_batch, _ = tokenize_examples(clean_batch, model, left_pad=True, pad_token_id=3)\n",
    "            padded_toxic_batch, _ = tokenize_examples(toxic_batch, model, left_pad=True, pad_token_id=3)\n",
    "\n",
    "            # batch_cache (batch_size, tokens, model_dim)\n",
    "            _, clean_batch_cache = get_resid_cache_from_forward_pass(model, padded_clean_batch)\n",
    "            _, toxic_batch_cache = get_resid_cache_from_forward_pass(model, padded_toxic_batch)\n",
    "            update_steering_vectors(model, steering_vectors, clean_batch_cache, toxic_batch_cache, last_x_token_positions, modifier)\n",
    "    \n",
    "    # Process and update steering vectors for each dataset in batches\n",
    "    # add lenient persona's activations, subtract toxic persona's activations\n",
    "    process_and_update_sequences_in_batches(model, clean_lenient_seqs, toxic_lenient_seqs, 1)\n",
    "    process_and_update_sequences_in_batches(model, clean_harsh_seqs, toxic_harsh_seqs, -1)\n",
    "    \n",
    "    return steering_vectors\n",
    "\n",
    "last_x_token_positions = 10\n",
    "batch_size = 64 \n",
    "d = process_data_and_compute_steering_vectors(model, last_x_token_positions, clean_lenient_seqs, toxic_lenient_seqs, clean_harsh_seqs, toxic_harsh_seqs, batch_size)\n",
    "batch_cache = 1\n",
    "e = process_data_and_compute_steering_vectors(model, last_x_token_positions, clean_lenient_seqs, toxic_lenient_seqs, clean_harsh_seqs, toxic_harsh_seqs, batch_size)\n"
   ]
  },
  {
   "cell_type": "code",
   "execution_count": 86,
   "metadata": {},
   "outputs": [],
   "source": [
    "e, f = steering_vectors_bs_1[0][0], d[0][0]"
   ]
  },
  {
   "cell_type": "code",
   "execution_count": 87,
   "metadata": {},
   "outputs": [
    {
     "data": {
      "image/png": "[encoded data removed]",
      "text/plain": [
       "<Figure size 640x480 with 1 Axes>"
      ]
     },
     "metadata": {},
     "output_type": "display_data"
    }
   ],
   "source": [
    "_ = plt.hist(e.cpu(), bins=100)\n"
   ]
  },
  {
   "cell_type": "code",
   "execution_count": 88,
   "metadata": {},
   "outputs": [
    {
     "data": {
      "image/png": "[encoded data removed]",
      "text/plain": [
       "<Figure size 640x480 with 1 Axes>"
      ]
     },
     "metadata": {},
     "output_type": "display_data"
    }
   ],
   "source": [
    "_ = plt.hist(f.cpu(), bins=100)\n"
   ]
  },
  {
   "cell_type": "code",
   "execution_count": 79,
   "metadata": {},
   "outputs": [
    {
     "data": {
      "text/plain": [
       "tensor([[    2,     2,     2,  ...,    13, 29898, 29907],\n",
       "        [    2,     2,     2,  ...,    13, 29898, 29907],\n",
       "        [    2,     2,     2,  ...,    13, 29898, 29907],\n",
       "        ...,\n",
       "        [    2,     2,     2,  ...,    13, 29898, 29907],\n",
       "        [    2,     2,     2,  ...,    13, 29898, 29907],\n",
       "        [    2,     2,     2,  ...,    13, 29898, 29907]], device='cuda:0')"
      ]
     },
     "execution_count": 79,
     "metadata": {},
     "output_type": "execute_result"
    }
   ],
   "source": [
    "padded_clean_batch"
   ]
  },
  {
   "cell_type": "code",
   "execution_count": 71,
   "metadata": {},
   "outputs": [],
   "source": [
    "model.tokenizer.pad_token_id = 2"
   ]
  },
  {
   "cell_type": "code",
   "execution_count": 75,
   "metadata": {},
   "outputs": [
    {
     "data": {
      "text/plain": [
       "tensor([[    0,     0,     0,  ...,    13, 29898, 29907],\n",
       "        [    0,     0,     0,  ...,    13, 29898, 29907],\n",
       "        [    0,     0,     0,  ...,    13, 29898, 29907],\n",
       "        ...,\n",
       "        [    0,     0,     0,  ...,    13, 29898, 29907],\n",
       "        [    0,     0,     0,  ...,    13, 29898, 29907],\n",
       "        [    0,     0,     0,  ...,    13, 29898, 29907]], device='cuda:0')"
      ]
     },
     "execution_count": 75,
     "metadata": {},
     "output_type": "execute_result"
    }
   ],
   "source": [
    "b2"
   ]
  },
  {
   "cell_type": "code",
   "execution_count": 74,
   "metadata": {},
   "outputs": [],
   "source": [
    "b2 = padded_clean_batch"
   ]
  },
  {
   "cell_type": "code",
   "execution_count": 22,
   "metadata": {},
   "outputs": [
    {
     "data": {
      "text/plain": [
       "(torch.Size([40, 10, 5120]), torch.Size([40, 10, 5120]))"
      ]
     },
     "execution_count": 22,
     "metadata": {},
     "output_type": "execute_result"
    }
   ],
   "source": [
    "steering_vectors_bs_1.shape, steering_vectors_bs_64.shape"
   ]
  },
  {
   "cell_type": "code",
   "execution_count": 26,
   "metadata": {},
   "outputs": [
    {
     "data": {
      "text/plain": [
       "False"
      ]
     },
     "execution_count": 26,
     "metadata": {},
     "output_type": "execute_result"
    }
   ],
   "source": [
    "torch.allclose(steering_vectors_bs_1, steering_vectors_bs_64, rtol=1e-2)"
   ]
  },
  {
   "cell_type": "code",
   "execution_count": null,
   "metadata": {},
   "outputs": [],
   "source": [
    "steering_vectors_bs_1[0][0], d[0][0]"
   ]
  },
  {
   "cell_type": "code",
   "execution_count": 31,
   "metadata": {},
   "outputs": [
    {
     "data": {
      "text/plain": [
       "(tensor([-9.6619e-05, -1.0656e-04, -3.3224e-04,  ..., -2.8130e-04,\n",
       "          3.2125e-04, -2.0440e-04], device='cuda:0'),\n",
       " tensor([-1.1459e-06, -1.0781e-06, -5.0662e-06,  ..., -4.3424e-06,\n",
       "          4.4027e-06, -3.3878e-06], device='cuda:0'),\n",
       " tensor([-1.2133e-07, -9.1000e-08, -6.0667e-07,  ..., -5.3084e-07,\n",
       "          5.4600e-07, -4.1708e-07], device='cuda:0'),\n",
       " tensor([-1.1459e-06, -1.0781e-06, -5.0662e-06,  ..., -4.3424e-06,\n",
       "          4.4027e-06, -3.3878e-06], device='cuda:0'))"
      ]
     },
     "execution_count": 31,
     "metadata": {},
     "output_type": "execute_result"
    }
   ],
   "source": [
    "# comparing the activations, second and last both have batch 64\n",
    "steering_vectors_bs_1[0][0], steering_vectors_bs_64[0][0], steering_vectors_bs_509[0][0], steering_vectors[0][0] "
   ]
  },
  {
   "cell_type": "code",
   "execution_count": 59,
   "metadata": {},
   "outputs": [],
   "source": [
    "a, b = steering_vectors_bs_64[15][-1], steering_vectors_bs_1[15][-1]"
   ]
  },
  {
   "cell_type": "code",
   "execution_count": 56,
   "metadata": {},
   "outputs": [
    {
     "data": {
      "image/png": "[encoded data removed]",
      "text/plain": [
       "<Figure size 640x480 with 1 Axes>"
      ]
     },
     "metadata": {},
     "output_type": "display_data"
    }
   ],
   "source": [
    "a = plt.hist(a.cpu(), bins=100)"
   ]
  },
  {
   "cell_type": "code",
   "execution_count": 57,
   "metadata": {},
   "outputs": [
    {
     "data": {
      "image/png": "[encoded data removed]",
      "text/plain": [
       "<Figure size 640x480 with 1 Axes>"
      ]
     },
     "metadata": {},
     "output_type": "display_data"
    }
   ],
   "source": [
    "b = plt.hist(b.cpu(), bins=100)\n"
   ]
  },
  {
   "cell_type": "code",
   "execution_count": 62,
   "metadata": {},
   "outputs": [
    {
     "data": {
      "text/plain": [
       "(tensor([ 5.5245e-05, -3.0879e-04,  6.2724e-05,  3.4739e-04, -1.8528e-04,\n",
       "         -1.3751e-04, -1.7370e-04, -4.8249e-05, -2.7792e-04,  3.6283e-04],\n",
       "        device='cuda:0'),\n",
       " tensor([ 0.0162, -0.0086,  0.0766,  0.0631, -0.0400, -0.0019, -0.0124,  0.0487,\n",
       "          0.0220, -0.0231], device='cuda:0'))"
      ]
     },
     "execution_count": 62,
     "metadata": {},
     "output_type": "execute_result"
    }
   ],
   "source": [
    "a[:10], b[:10]"
   ]
  },
  {
   "cell_type": "code",
   "execution_count": 65,
   "metadata": {},
   "outputs": [
    {
     "data": {
      "text/plain": [
       "(0, 2)"
      ]
     },
     "execution_count": 65,
     "metadata": {},
     "output_type": "execute_result"
    }
   ],
   "source": [
    "model.tokenizer.pad_token_id, model.tokenizer.eos_token_id"
   ]
  },
  {
   "cell_type": "markdown",
   "metadata": {},
   "source": [
    "## For sequence steering"
   ]
  },
  {
   "cell_type": "code",
   "execution_count": null,
   "metadata": {},
   "outputs": [],
   "source": [
    "clean_str_list = [d[\"prompt\"] for d in polar_data if d[\"label\"] == \"clean\"]\n",
    "toxic_str_list = [d[\"prompt\"] for d in polar_data if d[\"label\"] == \"toxic\"]\n",
    "\n",
    "clean_lenient_seqs = [personas['lenient'] + classifier_prompt.format(sequence=d) for d in clean_str_list]\n",
    "toxic_lenient_seqs = [personas['lenient'] + classifier_prompt.format(sequence=d) for d in toxic_str_list]\n",
    "\n",
    "clean_lenient_tokens, clean_lenient_last = tokenize_examples(clean_lenient_seqs, model)\n",
    "toxic_lenient_tokens, toxic_lenient_last = tokenize_examples(toxic_lenient_seqs, model)\n",
    "\n",
    "clean_harsh_seqs = [personas['harsh'] + classifier_prompt.format(sequence=d) for d in clean_str_list]\n",
    "toxic_harsh_seqs = [personas['harsh'] + classifier_prompt.format(sequence=d) for d in toxic_str_list]\n",
    "\n",
    "clean_harsh_tokens, clean_harsh_last = tokenize_examples(clean_harsh_seqs, model)\n",
    "toxic_harsh_tokens, toxic_harsh_last = tokenize_examples(toxic_harsh_seqs, model)"
   ]
  },
  {
   "cell_type": "code",
   "execution_count": null,
   "metadata": {},
   "outputs": [
    {
     "name": "stderr",
     "output_type": "stream",
     "text": [
      "  0%|          | 0/506 [00:00<?, ?it/s]"
     ]
    },
    {
     "name": "stderr",
     "output_type": "stream",
     "text": [
      "  0%|          | 0/506 [00:00<?, ?it/s]\n",
      "\n"
     ]
    }
   ],
   "source": [
    "lenient_cache_cache = {}\n",
    "lenient_logits_cache = {}\n",
    "\n",
    "harsh_cache_cache = {}\n",
    "harsh_logits_cache = {}\n",
    "\n",
    "# for idx, datapoint in tqdm(enumerate(polar_data), total=len(polar_data)):\n",
    "for idx, datapoint_pair in tqdm(enumerate(zip(clean_lenient_seqs, toxic_lenient_seqs)), total=min(len(clean_lenient_seqs), len(toxic_lenient_seqs))):\n",
    "\n",
    "\n",
    "    clean_lenient_logits, clean_lenient_cache = get_resid_cache_from_forward_pass(model, model.to_tokens(datapoint_pair[0]))\n",
    "    clean_lenient_cache = {k: v.cpu().detach() for k, v in clean_lenient_cache.items()}\n",
    "\n",
    "    toxic_lenient_logits, toxic_lenient_cache = get_resid_cache_from_forward_pass(model, model.to_tokens(datapoint_pair[1]))\n",
    "    toxic_lenient_cache = {k: v.cpu().detach() for k, v in toxic_lenient_cache.items()}\n",
    "\n",
    "    lenient_cache_cache[idx] = {\"clean\": clean_lenient_cache, \"toxic\": toxic_lenient_cache, \"clean_seq\": datapoint_pair[0], \"toxic_seq\": datapoint_pair[1]}\n",
    "\n",
    "    torch.save(lenient_cache_cache, \"lenient_cache_cache.pt\")\n",
    "\n",
    "    break\n",
    "\n",
    "for idx, datapoint_pair in tqdm(enumerate(zip(clean_harsh_seqs, toxic_harsh_seqs)), total=min)(len(clean_harsh_seqs), len(toxic_harsh_seqs)):\n",
    "\n",
    "    clean_harsh_logits, clean_harsh_cache = get_resid_cache_from_forward_pass(model, model.to_tokens(datapoint_pair[0]))\n",
    "    clean_harsh_cache = {k: v.cpu().detach() for k, v in clean_harsh_cache.items()}\n",
    "\n",
    "    toxic_harsh_logits, toxic_harsh_cache = get_resid_cache_from_forward_pass(model, model.to_tokens(datapoint_pair[1]))\n",
    "    toxic_harsh_cache = {k: v.cpu().detach() for k, v in toxic_harsh_cache.items()}\n",
    "\n",
    "    harsh_cache_cache[idx] = {\"clean\": clean_harsh_cache, \"toxic\": toxic_harsh_cache, \"clean_seq\": datapoint_pair[0], \"toxic_seq\": datapoint_pair[1]}\n",
    "\n",
    "    torch.save(harsh_cache_cache, \"harsh_cache_cache.pt\")\n",
    "\n",
    "    break\n",
    "\n",
    "# with open(\"cache_cache.json\", \"w\") as f:\n",
    "#     json.dump(cache_cache, f)\n",
    "\n",
    "# with open(\"logits_cache.json\", \"w\") as f:\n",
    "#     json.dump(logits_cache, f)\n"
   ]
  },
  {
   "cell_type": "code",
   "execution_count": 13,
   "metadata": {},
   "outputs": [
    {
     "data": {
      "text/plain": [
       "{0: {'clean': {'blocks.0.hook_resid_post': tensor([[[-0.0215, -0.0043,  0.0376,  ...,  0.0098,  0.0101,  0.0237],\n",
       "            [-0.0052,  0.0145,  0.0154,  ...,  0.0131,  0.0096,  0.0038],\n",
       "            [ 0.0435,  0.0141, -0.0200,  ..., -0.0210, -0.0297, -0.0129],\n",
       "            ...,\n",
       "            [-0.0121,  0.0058,  0.0073,  ...,  0.0187, -0.0084, -0.0133],\n",
       "            [ 0.0031,  0.0400, -0.0024,  ..., -0.0237, -0.0085, -0.0291],\n",
       "            [-0.0332,  0.0094, -0.0016,  ..., -0.0193, -0.0157, -0.0166]]],\n",
       "          dtype=torch.bfloat16),\n",
       "   'blocks.1.hook_resid_post': tensor([[[-0.0369, -0.0051,  0.0537,  ..., -0.0082,  0.0193,  0.0201],\n",
       "            [ 0.0003,  0.0496,  0.0034,  ..., -0.0203,  0.0165,  0.0056],\n",
       "            [ 0.0659,  0.0461, -0.0435,  ..., -0.0654, -0.0305, -0.0028],\n",
       "            ...,\n",
       "            [-0.0228,  0.0164, -0.0084,  ...,  0.0132, -0.0094, -0.0337],\n",
       "            [-0.0087,  0.0322, -0.0327,  ..., -0.0149, -0.0072, -0.0386],\n",
       "            [-0.0232, -0.0203, -0.0425,  ..., -0.0264, -0.0051, -0.0405]]],\n",
       "          dtype=torch.bfloat16),\n",
       "   'blocks.2.hook_resid_post': tensor([[[-3.0640e-02,  1.7944e-02,  6.0303e-02,  ..., -1.0620e-02,\n",
       "             -3.4790e-03,  2.7588e-02],\n",
       "            [ 8.5449e-03,  4.9316e-02,  6.2500e-02,  ..., -5.2979e-02,\n",
       "              3.4790e-03,  1.9653e-02],\n",
       "            [ 5.4199e-02,  5.9570e-02, -8.7891e-03,  ..., -6.5430e-02,\n",
       "             -5.8594e-02, -4.2725e-03],\n",
       "            ...,\n",
       "            [-2.2461e-02,  3.0273e-02, -3.3203e-02,  ...,  3.2471e-02,\n",
       "             -6.2256e-03, -5.3223e-02],\n",
       "            [-1.5503e-02,  1.7090e-02, -1.1719e-02,  ...,  1.7822e-02,\n",
       "              3.2227e-02, -3.4424e-02],\n",
       "            [-3.8574e-02, -2.9785e-02, -5.0537e-02,  ...,  6.4087e-03,\n",
       "             -7.6294e-06, -3.9795e-02]]], dtype=torch.bfloat16),\n",
       "   'blocks.3.hook_resid_post': tensor([[[ 2.0508e-01,  9.9121e-02,  4.0234e-01,  ...,  8.1055e-02,\n",
       "              7.0312e-01, -3.7109e-01],\n",
       "            [-2.0874e-02,  4.2236e-02,  6.5918e-02,  ..., -7.1777e-02,\n",
       "             -5.4932e-04,  5.5664e-02],\n",
       "            [ 7.0801e-02,  6.8848e-02, -7.8125e-03,  ..., -8.0078e-02,\n",
       "             -1.1133e-01, -7.5195e-02],\n",
       "            ...,\n",
       "            [-3.1738e-02,  6.0059e-02, -4.8828e-03,  ..., -3.0518e-02,\n",
       "              2.5024e-02,  2.4780e-02],\n",
       "            [-1.3306e-02,  1.7334e-02,  1.3062e-02,  ..., -8.0566e-03,\n",
       "              2.5269e-02,  6.7871e-02],\n",
       "            [ 1.9287e-02,  4.9316e-02, -3.7842e-02,  ...,  2.2583e-03,\n",
       "             -1.0986e-02, -5.8105e-02]]], dtype=torch.bfloat16),\n",
       "   'blocks.4.hook_resid_post': tensor([[[ 2.0215e-01,  7.3242e-02,  4.0625e-01,  ...,  8.4961e-02,\n",
       "              7.3047e-01, -3.7305e-01],\n",
       "            [-8.3008e-02,  4.7852e-02,  6.7871e-02,  ..., -8.5449e-02,\n",
       "              4.5410e-02,  7.8125e-02],\n",
       "            [ 4.8340e-02,  1.9409e-02,  7.4463e-03,  ..., -1.4746e-01,\n",
       "             -7.5195e-02, -1.2695e-01],\n",
       "            ...,\n",
       "            [ 3.8574e-02,  1.1426e-01, -8.8867e-02,  ..., -1.7383e-01,\n",
       "             -6.3477e-02,  5.1758e-02],\n",
       "            [-4.4189e-02, -3.1738e-02,  3.3569e-04,  ...,  2.2339e-02,\n",
       "              7.8125e-02,  7.9102e-02],\n",
       "            [-1.8799e-02,  1.0742e-01, -3.7109e-02,  ..., -2.9175e-02,\n",
       "             -1.8433e-02, -5.7129e-02]]], dtype=torch.bfloat16),\n",
       "   'blocks.5.hook_resid_post': tensor([[[ 0.2207,  0.0674,  0.4238,  ...,  0.0312,  0.7891, -0.3887],\n",
       "            [ 0.0115, -0.0625,  0.1758,  ..., -0.0654,  0.1094,  0.1504],\n",
       "            [ 0.1504,  0.0181,  0.0320,  ..., -0.0742, -0.0437, -0.0835],\n",
       "            ...,\n",
       "            [-0.0732,  0.0483, -0.2217,  ..., -0.0977, -0.0579,  0.0420],\n",
       "            [-0.2373, -0.0081, -0.0220,  ...,  0.0117,  0.1943,  0.0698],\n",
       "            [-0.0583,  0.1484, -0.0532,  ...,  0.0186,  0.0043, -0.0396]]],\n",
       "          dtype=torch.bfloat16),\n",
       "   'blocks.6.hook_resid_post': tensor([[[ 0.2793,  0.0493,  0.3574,  ..., -0.0889,  0.8438, -0.4062],\n",
       "            [ 0.1260,  0.0244,  0.0981,  ..., -0.1162,  0.1436,  0.1016],\n",
       "            [ 0.1758, -0.0859,  0.0928,  ..., -0.1562, -0.1250, -0.2148],\n",
       "            ...,\n",
       "            [-0.0464,  0.0366, -0.1016,  ..., -0.1206,  0.0078,  0.0723],\n",
       "            [-0.2109,  0.0811,  0.2119,  ...,  0.0635,  0.2490,  0.0309],\n",
       "            [-0.1104,  0.0708,  0.0850,  ..., -0.0013,  0.0938, -0.1562]]],\n",
       "          dtype=torch.bfloat16),\n",
       "   'blocks.7.hook_resid_post': tensor([[[ 0.0410, -0.4883,  0.3340,  ...,  0.0723,  0.6367, -0.4922],\n",
       "            [ 0.1572,  0.0405,  0.1543,  ..., -0.0859,  0.2344,  0.0093],\n",
       "            [ 0.3184,  0.0020,  0.1367,  ..., -0.1953, -0.0410, -0.2695],\n",
       "            ...,\n",
       "            [-0.1758,  0.1138, -0.1016,  ..., -0.1113, -0.1074,  0.0151],\n",
       "            [-0.2461,  0.2305,  0.2148,  ...,  0.0386,  0.2207,  0.0044],\n",
       "            [-0.1416,  0.0977,  0.1992,  ...,  0.0054,  0.2324, -0.2129]]],\n",
       "          dtype=torch.bfloat16),\n",
       "   'blocks.8.hook_resid_post': tensor([[[ 0.0079, -0.4766,  0.3164,  ...,  0.0742,  0.6758, -0.5000],\n",
       "            [ 0.0225, -0.0447,  0.1279,  ...,  0.0149,  0.3340, -0.0120],\n",
       "            [ 0.3477,  0.0131,  0.1641,  ..., -0.1196, -0.1006, -0.2637],\n",
       "            ...,\n",
       "            [-0.0586,  0.0977, -0.2090,  ...,  0.1621,  0.0059,  0.0073],\n",
       "            [-0.1680,  0.2500, -0.0234,  ...,  0.2139,  0.2354, -0.1025],\n",
       "            [-0.0923,  0.0879,  0.1641,  ..., -0.0947,  0.4609, -0.2129]]],\n",
       "          dtype=torch.bfloat16),\n",
       "   'blocks.9.hook_resid_post': tensor([[[ 0.0105, -0.4668,  0.2988,  ...,  0.0337,  0.7031, -0.4805],\n",
       "            [-0.0106, -0.1162, -0.0137,  ...,  0.1147,  0.3438, -0.0286],\n",
       "            [ 0.3926,  0.1196,  0.1533,  ..., -0.1250, -0.0742, -0.2539],\n",
       "            ...,\n",
       "            [-0.1055, -0.0132, -0.2402,  ...,  0.1523,  0.0000, -0.0112],\n",
       "            [-0.3828,  0.1387, -0.0405,  ...,  0.2354,  0.4336, -0.1689],\n",
       "            [-0.0913, -0.1445,  0.1475,  ...,  0.0220,  0.5664, -0.2637]]],\n",
       "          dtype=torch.bfloat16),\n",
       "   'blocks.10.hook_resid_post': tensor([[[-0.0090, -0.4258,  0.2598,  ...,  0.0588,  0.7578, -0.5273],\n",
       "            [ 0.0051, -0.1201, -0.0610,  ...,  0.0811,  0.4199, -0.0801],\n",
       "            [ 0.2598, -0.0410,  0.1138,  ..., -0.1553, -0.0562, -0.3633],\n",
       "            ...,\n",
       "            [-0.2031,  0.1289, -0.1602,  ...,  0.0830,  0.0574, -0.2070],\n",
       "            [-0.3203,  0.1426, -0.0171,  ...,  0.1973,  0.5859, -0.2500],\n",
       "            [-0.0273, -0.1406,  0.0410,  ..., -0.0859,  0.4141, -0.3496]]],\n",
       "          dtype=torch.bfloat16),\n",
       "   'blocks.11.hook_resid_post': tensor([[[-0.0535, -0.4590,  0.2812,  ...,  0.0413,  0.7812, -0.5625],\n",
       "            [-0.1260, -0.0967, -0.1973,  ...,  0.0811,  0.3066, -0.0771],\n",
       "            [ 0.2119, -0.0693,  0.0952,  ..., -0.2012,  0.0203, -0.4805],\n",
       "            ...,\n",
       "            [ 0.0415,  0.1484, -0.1484,  ..., -0.0801,  0.1309, -0.0703],\n",
       "            [ 0.1709,  0.1260,  0.1992,  ..., -0.1455,  0.3887, -0.1523],\n",
       "            [ 0.0581, -0.1621, -0.0254,  ..., -0.0381,  0.5859, -0.4590]]],\n",
       "          dtype=torch.bfloat16),\n",
       "   'blocks.12.hook_resid_post': tensor([[[-0.0327, -0.4668,  0.2715,  ...,  0.0469,  0.7812, -0.5820],\n",
       "            [-0.0962, -0.1895, -0.2002,  ...,  0.0972,  0.2559, -0.0562],\n",
       "            [ 0.2344,  0.0029,  0.2188,  ..., -0.1611,  0.0256, -0.5273],\n",
       "            ...,\n",
       "            [-0.0718,  0.2168, -0.2021,  ..., -0.1582,  0.3730, -0.0068],\n",
       "            [-0.1177,  0.2090,  0.3867,  ...,  0.0420,  0.4805, -0.2578],\n",
       "            [-0.1689,  0.0586,  0.0703,  ..., -0.0977,  0.6133, -0.1074]]],\n",
       "          dtype=torch.bfloat16),\n",
       "   'blocks.13.hook_resid_post': tensor([[[ 0.0058, -0.5078,  0.2393,  ...,  0.0439,  0.7305, -0.6055],\n",
       "            [-0.0247, -0.2188, -0.2393,  ...,  0.0146,  0.3047, -0.1123],\n",
       "            [ 0.1221,  0.0059,  0.2520,  ..., -0.1895, -0.1895, -0.4609],\n",
       "            ...,\n",
       "            [ 0.0723,  0.4492, -0.0610,  ...,  0.0469,  0.5469,  0.0396],\n",
       "            [ 0.0635,  0.1768,  0.3770,  ..., -0.0249,  0.5273, -0.2344],\n",
       "            [-0.0020,  0.2021,  0.1934,  ...,  0.0684,  1.0000,  0.0527]]],\n",
       "          dtype=torch.bfloat16),\n",
       "   'blocks.14.hook_resid_post': tensor([[[ 0.0098, -0.4688,  0.1973,  ...,  0.0302,  0.6758, -0.6289],\n",
       "            [-0.0771, -0.2363, -0.2754,  ..., -0.0898,  0.2637, -0.1621],\n",
       "            [ 0.2520, -0.0723,  0.2539,  ..., -0.3398, -0.3828, -0.6406],\n",
       "            ...,\n",
       "            [ 0.1250,  0.4824, -0.1367,  ...,  0.0068,  0.4766,  0.0586],\n",
       "            [ 0.2871,  0.2471,  0.2109,  ..., -0.1270,  0.6484, -0.1992],\n",
       "            [-0.2578,  0.2676,  0.1650,  ...,  0.5312,  0.7422,  0.1226]]],\n",
       "          dtype=torch.bfloat16),\n",
       "   'blocks.15.hook_resid_post': tensor([[[-0.0630, -0.4023,  0.2041,  ..., -0.0569,  0.7344, -0.5547],\n",
       "            [-0.1680, -0.2500, -0.2188,  ..., -0.1660,  0.2148, -0.0491],\n",
       "            [ 0.4453, -0.1055, -0.0684,  ..., -0.5000, -0.4199, -0.3984],\n",
       "            ...,\n",
       "            [ 0.2295,  0.7188,  0.2734,  ..., -0.0239,  0.6328,  0.1318],\n",
       "            [ 0.4336,  0.3945,  0.2158,  ...,  0.0176,  0.7891, -0.1660],\n",
       "            [-0.1328, -0.0137,  0.3652,  ...,  0.1191,  0.3945,  0.2129]]],\n",
       "          dtype=torch.bfloat16),\n",
       "   'blocks.16.hook_resid_post': tensor([[[-0.0056, -0.3965,  0.1035,  ..., -0.0996,  0.7578, -0.6289],\n",
       "            [-0.0430, -0.2061, -0.2070,  ..., -0.0820,  0.2012, -0.2031],\n",
       "            [ 0.6758, -0.2773,  0.2227,  ..., -0.5508, -0.6406, -0.5781],\n",
       "            ...,\n",
       "            [ 0.3379,  0.7734,  0.2500,  ...,  0.2480,  0.6953,  0.2051],\n",
       "            [ 0.7070,  0.3359,  0.2080,  ...,  0.0598,  0.6211,  0.2334],\n",
       "            [-0.1279, -0.1484,  0.0928,  ...,  0.0410,  0.7148, -0.0391]]],\n",
       "          dtype=torch.bfloat16),\n",
       "   'blocks.17.hook_resid_post': tensor([[[ 0.1826, -0.3340, -0.0859,  ..., -0.1816,  0.6211, -0.6641],\n",
       "            [-0.0513, -0.1953, -0.2080,  ..., -0.1631,  0.0967, -0.2539],\n",
       "            [ 0.8281, -0.5078,  0.4062,  ..., -0.9219, -0.9492, -0.8125],\n",
       "            ...,\n",
       "            [ 0.0078,  1.1250,  0.6172,  ..., -0.5430,  0.5234,  0.4805],\n",
       "            [ 0.4883,  0.8633,  0.7656,  ..., -0.5312,  0.6992,  0.3125],\n",
       "            [-0.5703,  0.4219,  0.3730,  ..., -0.3125,  0.4629, -0.0610]]],\n",
       "          dtype=torch.bfloat16),\n",
       "   'blocks.18.hook_resid_post': tensor([[[ 0.1206, -0.3594, -0.1387,  ..., -0.1855,  0.6133, -0.6758],\n",
       "            [ 0.0645, -0.1543, -0.0151,  ..., -0.1865,  0.1914,  0.0015],\n",
       "            [ 0.9336, -0.4141,  0.5469,  ..., -0.9570, -1.2422, -0.9219],\n",
       "            ...,\n",
       "            [ 0.2012,  1.2578,  0.7188,  ..., -0.5156,  0.7500,  0.4609],\n",
       "            [ 0.5664,  0.9414,  0.8203,  ..., -0.2148,  0.7422,  0.2637],\n",
       "            [-0.9297,  0.4883,  0.0195,  ..., -0.1514,  0.6328, -0.5078]]],\n",
       "          dtype=torch.bfloat16),\n",
       "   'blocks.19.hook_resid_post': tensor([[[ 0.0664, -0.3145, -0.2656,  ..., -0.2383,  0.6406, -0.7227],\n",
       "            [ 0.0664, -0.1299, -0.0176,  ..., -0.2871,  0.0596, -0.0396],\n",
       "            [ 1.1875, -0.4062,  0.2871,  ..., -1.5781, -1.3984, -1.3125],\n",
       "            ...,\n",
       "            [-0.0352,  1.2188,  0.7812,  ..., -0.7500,  1.1641,  0.3008],\n",
       "            [ 0.2188,  0.8398,  0.8008,  ..., -0.5508,  1.2188,  0.4863],\n",
       "            [-1.3281,  0.3086,  0.1523,  ..., -0.0762,  0.7422, -0.5469]]],\n",
       "          dtype=torch.bfloat16),\n",
       "   'blocks.20.hook_resid_post': tensor([[[ 0.0908, -0.2539, -0.3457,  ..., -0.3574,  0.6484, -0.6875],\n",
       "            [ 0.0442, -0.1924,  0.0762,  ..., -0.2852, -0.0161, -0.0075],\n",
       "            [ 1.0859, -0.5312,  0.4355,  ..., -2.1562, -1.3203, -1.5547],\n",
       "            ...,\n",
       "            [ 0.1367,  1.1641,  0.8750,  ..., -0.5586,  1.1016,  0.2334],\n",
       "            [ 0.3281,  0.6914,  0.7422,  ..., -0.3848,  1.1797,  0.4082],\n",
       "            [-0.9609,  0.3379,  0.0620,  ..., -0.3594,  0.7539, -0.3359]]],\n",
       "          dtype=torch.bfloat16),\n",
       "   'blocks.21.hook_resid_post': tensor([[[ 1.6797e-01, -6.5430e-02, -3.5352e-01,  ..., -2.4316e-01,\n",
       "              3.7109e-01, -6.6797e-01],\n",
       "            [-2.7222e-02, -2.1484e-01, -1.7090e-03,  ..., -2.9492e-01,\n",
       "             -1.7383e-01,  1.0742e-02],\n",
       "            [ 9.6875e-01, -9.8047e-01,  2.5391e-01,  ..., -2.3125e+00,\n",
       "             -1.6328e+00, -1.5000e+00],\n",
       "            ...,\n",
       "            [ 2.8906e-01,  1.5078e+00,  8.6719e-01,  ..., -7.1875e-01,\n",
       "              1.1875e+00,  1.7285e-01],\n",
       "            [ 5.1562e-01,  9.4141e-01,  8.9844e-01,  ..., -4.5898e-01,\n",
       "              1.4609e+00,  1.9141e-01],\n",
       "            [-9.4922e-01,  2.1777e-01,  4.1797e-01,  ...,  7.8125e-03,\n",
       "              1.1016e+00, -6.1719e-01]]], dtype=torch.bfloat16),\n",
       "   'blocks.22.hook_resid_post': tensor([[[ 0.1758,  0.0376, -0.3477,  ..., -0.2676,  0.2578, -0.6484],\n",
       "            [ 0.0610, -0.1768, -0.0232,  ..., -0.2812, -0.2305, -0.0132],\n",
       "            [ 0.8828, -0.9688,  0.2656,  ..., -2.3594, -1.6562, -2.0625],\n",
       "            ...,\n",
       "            [ 0.2520,  1.3750,  1.0859,  ..., -0.6133,  0.6797,  0.1016],\n",
       "            [ 0.4941,  1.2109,  1.0938,  ..., -0.2129,  1.4844,  0.2285],\n",
       "            [-0.8438,  0.3965,  0.4238,  ...,  0.5352,  0.6055, -0.8945]]],\n",
       "          dtype=torch.bfloat16),\n",
       "   'blocks.23.hook_resid_post': tensor([[[ 0.2197,  0.0752, -0.3633,  ..., -0.3145,  0.3223, -0.6055],\n",
       "            [ 0.0315, -0.1963, -0.0288,  ..., -0.2656, -0.2305, -0.0396],\n",
       "            [ 1.2422, -1.0625,  0.6641,  ..., -2.3594, -1.3359, -1.8750],\n",
       "            ...,\n",
       "            [ 0.5742,  1.2188,  1.0078,  ..., -0.4746,  1.2578,  0.0569],\n",
       "            [ 0.8047,  1.2734,  1.0625,  ...,  0.3105,  1.8281,  0.2773],\n",
       "            [-0.5312,  0.5703,  0.6289,  ...,  0.5547,  0.7031, -0.6367]]],\n",
       "          dtype=torch.bfloat16),\n",
       "   'blocks.24.hook_resid_post': tensor([[[ 0.2852,  0.0908, -0.3848,  ..., -0.3477,  0.3906, -0.6250],\n",
       "            [ 0.1050, -0.2119, -0.0054,  ..., -0.3047, -0.2148,  0.0225],\n",
       "            [ 1.4531, -1.0547,  0.7305,  ..., -2.6250, -1.5078, -1.8906],\n",
       "            ...,\n",
       "            [ 0.7461,  0.9805,  0.8203,  ..., -0.3320,  1.3438,  0.0122],\n",
       "            [ 1.1641,  0.9766,  1.1719,  ...,  0.5117,  1.8047,  0.5469],\n",
       "            [-0.3633,  0.4414,  0.4746,  ...,  0.5664,  0.8984, -0.6484]]],\n",
       "          dtype=torch.bfloat16),\n",
       "   'blocks.25.hook_resid_post': tensor([[[ 0.0469, -0.1816, -0.3633,  ..., -0.2578,  0.2422, -0.7148],\n",
       "            [ 0.0579, -0.1250, -0.0276,  ..., -0.3086, -0.2021,  0.0168],\n",
       "            [ 1.7734, -0.9375,  0.6328,  ..., -2.6562, -1.5234, -2.1719],\n",
       "            ...,\n",
       "            [ 0.7578,  1.0469,  0.9688,  ..., -0.2373,  1.5469,  0.3379],\n",
       "            [ 1.4219,  1.0781,  0.7852,  ...,  0.8438,  2.2969,  0.5938],\n",
       "            [-0.4336,  0.8281,  0.3848,  ...,  0.6094,  1.0938, -0.7812]]],\n",
       "          dtype=torch.bfloat16),\n",
       "   'blocks.26.hook_resid_post': tensor([[[ 0.0625, -0.1689, -0.3926,  ..., -0.3027,  0.2734, -0.7109],\n",
       "            [ 0.0522, -0.1055, -0.0087,  ..., -0.3125, -0.2490,  0.0391],\n",
       "            [ 1.9688, -0.8945,  0.8672,  ..., -2.8906, -1.2500, -1.7188],\n",
       "            ...,\n",
       "            [ 0.6758,  1.2891,  0.8672,  ..., -0.5938,  1.3594,  0.0557],\n",
       "            [ 1.2656,  0.9141,  0.9453,  ...,  0.2246,  2.4844,  0.3867],\n",
       "            [-0.4180,  0.7344,  0.5742,  ...,  0.1680,  0.8281, -0.8086]]],\n",
       "          dtype=torch.bfloat16),\n",
       "   'blocks.27.hook_resid_post': tensor([[[ 0.0176, -0.1885, -0.4238,  ..., -0.3262,  0.2812, -0.7227],\n",
       "            [ 0.0713, -0.1416,  0.0281,  ..., -0.3262, -0.2207,  0.0669],\n",
       "            [ 2.0156, -1.1172,  0.8672,  ..., -3.0156, -1.1250, -1.8750],\n",
       "            ...,\n",
       "            [ 0.6094,  0.8125,  0.3613,  ..., -0.6094,  1.7812,  0.2539],\n",
       "            [ 1.3438,  0.6562,  0.6758,  ...,  0.3262,  2.4062,  0.7930],\n",
       "            [-0.3516,  0.4727,  0.1816,  ...,  0.0830,  1.3125, -0.6172]]],\n",
       "          dtype=torch.bfloat16),\n",
       "   'blocks.28.hook_resid_post': tensor([[[ 0.0103, -0.1602, -0.4395,  ..., -0.2949,  0.2754, -0.7461],\n",
       "            [ 0.1309, -0.1074, -0.0043,  ..., -0.2793, -0.2178,  0.0049],\n",
       "            [ 1.8750, -0.8828,  0.6133,  ..., -2.6875, -1.3594, -1.9531],\n",
       "            ...,\n",
       "            [ 0.6328,  0.9023,  0.1826,  ..., -0.3633,  1.9141,  0.3262],\n",
       "            [ 1.3828,  0.6602,  0.6836,  ...,  0.3281,  2.8906,  1.0312],\n",
       "            [-0.2021,  0.7891,  0.0557,  ...,  0.4531,  1.6250, -0.1621]]],\n",
       "          dtype=torch.bfloat16),\n",
       "   'blocks.29.hook_resid_post': tensor([[[-0.0076, -0.1064, -0.4609,  ..., -0.2812,  0.2656, -0.8086],\n",
       "            [ 0.1416, -0.0718,  0.0986,  ..., -0.2754, -0.1836,  0.0552],\n",
       "            [ 1.7891, -0.6562,  0.7734,  ..., -2.7656, -1.6484, -1.6406],\n",
       "            ...,\n",
       "            [ 0.8828,  1.1016,  0.0845,  ..., -0.2812,  1.6094,  0.6797],\n",
       "            [ 1.5703,  0.6484,  0.8203,  ...,  0.5859,  2.9844,  1.2344],\n",
       "            [-0.2090,  0.8555,  0.2363,  ...,  0.4824,  1.9141, -0.0732]]],\n",
       "          dtype=torch.bfloat16),\n",
       "   'blocks.30.hook_resid_post': tensor([[[-0.0347, -0.1060, -0.5273,  ..., -0.2656,  0.3125, -0.8555],\n",
       "            [ 0.1318, -0.0172,  0.0825,  ..., -0.2324, -0.2441,  0.1016],\n",
       "            [ 1.7188, -0.9141,  0.5508,  ..., -2.6562, -1.7500, -1.8594],\n",
       "            ...,\n",
       "            [ 1.2812,  1.1016,  0.3945,  ..., -0.4277,  1.6875,  1.0625],\n",
       "            [ 1.7734,  0.5664,  1.2344,  ...,  0.4844,  3.0000,  1.5625],\n",
       "            [-0.2734,  0.9336,  0.3105,  ...,  0.4004,  1.8438, -0.0703]]],\n",
       "          dtype=torch.bfloat16),\n",
       "   'blocks.31.hook_resid_post': tensor([[[-0.0317, -0.1660, -0.5742,  ..., -0.2129,  0.3398, -0.9844],\n",
       "            [ 0.2109, -0.0215,  0.1543,  ..., -0.1875, -0.3320,  0.1553],\n",
       "            [ 2.2031, -0.7188,  0.5469,  ..., -2.5625, -2.0625, -2.0781],\n",
       "            ...,\n",
       "            [ 1.3281,  1.4844,  0.1445,  ..., -0.3008,  1.5547,  1.1328],\n",
       "            [ 1.8516,  0.9219,  1.0000,  ...,  0.7109,  2.9688,  1.2812],\n",
       "            [-0.1973,  1.0859,  0.6953,  ...,  0.4434,  1.9375, -0.1904]]],\n",
       "          dtype=torch.bfloat16),\n",
       "   'blocks.32.hook_resid_post': tensor([[[-0.0483, -0.2188, -0.6484,  ..., -0.2031,  0.2793, -1.1172],\n",
       "            [ 0.2871,  0.0134,  0.1973,  ..., -0.2773, -0.3145,  0.0913],\n",
       "            [ 2.7500, -0.8125,  0.3086,  ..., -2.4375, -2.2031, -2.2812],\n",
       "            ...,\n",
       "            [ 1.5312,  1.4531,  0.4648,  ..., -0.3301,  1.8281,  0.8633],\n",
       "            [ 2.0000,  0.7930,  1.1875,  ...,  0.9375,  3.3281,  1.3281],\n",
       "            [ 0.0938,  1.3359,  1.0547,  ...,  0.3711,  1.7578, -0.1748]]],\n",
       "          dtype=torch.bfloat16),\n",
       "   'blocks.33.hook_resid_post': tensor([[[-0.1738, -0.2148, -0.6172,  ..., -0.2188,  0.3320, -1.1719],\n",
       "            [ 0.3242, -0.0459,  0.2930,  ..., -0.2676, -0.2139,  0.0796],\n",
       "            [ 2.9688, -1.0547,  0.9297,  ..., -2.0625, -2.0938, -2.1719],\n",
       "            ...,\n",
       "            [ 1.7969,  1.4531,  0.6562,  ..., -0.1689,  1.7344,  0.8203],\n",
       "            [ 2.2969,  0.7969,  1.1719,  ...,  1.3594,  3.2500,  1.0781],\n",
       "            [ 0.4766,  1.3281,  0.7656,  ...,  0.5000,  2.0156, -0.3164]]],\n",
       "          dtype=torch.bfloat16),\n",
       "   'blocks.34.hook_resid_post': tensor([[[-0.2480, -0.2988, -0.6602,  ..., -0.1338,  0.3887, -1.2188],\n",
       "            [ 0.3438, -0.0212,  0.3320,  ..., -0.2461, -0.2246,  0.0457],\n",
       "            [ 3.4062, -1.3594,  0.9219,  ..., -1.7891, -1.7500, -1.6328],\n",
       "            ...,\n",
       "            [ 1.5781,  1.5312,  0.8125,  ..., -0.3730,  2.1406,  1.3438],\n",
       "            [ 2.0469,  1.1250,  1.1797,  ...,  0.7734,  3.4219,  1.5859],\n",
       "            [ 0.4590,  1.7031,  0.7930,  ...,  0.3145,  2.6719, -0.3086]]],\n",
       "          dtype=torch.bfloat16),\n",
       "   'blocks.35.hook_resid_post': tensor([[[-0.2061, -0.2852, -0.7109,  ..., -0.2139,  0.4785, -1.2891],\n",
       "            [ 0.3789,  0.0110,  0.3008,  ..., -0.2402, -0.2432,  0.0427],\n",
       "            [ 3.1406, -1.9219,  1.0625,  ..., -2.0781, -2.0938, -2.4062],\n",
       "            ...,\n",
       "            [ 1.1484,  1.6328,  0.4141,  ..., -0.3203,  2.6875,  1.4453],\n",
       "            [ 1.8828,  0.8789,  0.9609,  ...,  0.2969,  3.5938,  1.7266],\n",
       "            [ 0.2461,  2.0625,  0.3691,  ...,  0.7227,  2.7969, -0.8984]]],\n",
       "          dtype=torch.bfloat16),\n",
       "   'blocks.36.hook_resid_post': tensor([[[-0.3457, -0.3145, -0.7109,  ..., -0.3359,  0.7500, -1.3438],\n",
       "            [ 0.3320,  0.0054,  0.2656,  ..., -0.2773, -0.0723,  0.1289],\n",
       "            [ 3.1562, -1.6094,  0.7578,  ..., -2.0938, -2.5312, -3.0469],\n",
       "            ...,\n",
       "            [ 2.1875,  1.0938,  0.4922,  ..., -0.2324,  2.8281,  1.6328],\n",
       "            [ 2.4531,  0.5508,  0.8281,  ...,  0.4551,  3.9375,  1.8906],\n",
       "            [ 0.2148,  2.2031,  0.1641,  ...,  0.3750,  3.7031, -0.6602]]],\n",
       "          dtype=torch.bfloat16),\n",
       "   'blocks.37.hook_resid_post': tensor([[[-0.6094, -0.1396, -0.5938,  ..., -0.4629,  1.0234, -1.1797],\n",
       "            [ 0.4375, -0.0435,  0.4258,  ..., -0.0117, -0.2676,  0.0420],\n",
       "            [ 3.5938, -2.1406,  0.3301,  ..., -1.6562, -2.2344, -2.7344],\n",
       "            ...,\n",
       "            [ 2.1562,  1.3516,  0.1328,  ..., -0.0859,  2.3594,  1.6250],\n",
       "            [ 2.5938,  0.4023,  0.7500,  ...,  1.0938,  4.2188,  2.1562],\n",
       "            [ 1.2422,  1.9141,  0.6953,  ...,  0.8672,  4.4375, -0.5039]]],\n",
       "          dtype=torch.bfloat16),\n",
       "   'blocks.38.hook_resid_post': tensor([[[-0.2129,  0.2578,  0.1289,  ..., -0.2207,  1.2031, -0.5000],\n",
       "            [ 0.0215, -0.1699,  0.1816,  ...,  0.2266, -0.3906,  0.0493],\n",
       "            [ 3.3594, -2.2656, -0.6094,  ..., -1.3359, -1.8281, -2.4688],\n",
       "            ...,\n",
       "            [ 2.4688,  1.3438,  0.6758,  ..., -0.0059,  2.5312,  1.9609],\n",
       "            [ 3.7031,  1.7188,  0.3770,  ...,  1.0312,  4.5938,  1.9375],\n",
       "            [ 1.0859,  2.7969,  0.0547,  ...,  1.6094,  4.1875, -0.9102]]],\n",
       "          dtype=torch.bfloat16),\n",
       "   'blocks.39.hook_resid_post': tensor([[[ 0.1226, -0.1973, -0.4004,  ..., -0.0996,  0.6914, -0.4727],\n",
       "            [-0.6406, -0.6484,  0.5625,  ...,  0.2344, -0.4883,  0.4102],\n",
       "            [ 2.9844, -2.6406, -0.2695,  ..., -0.8398, -2.7500, -3.0469],\n",
       "            ...,\n",
       "            [ 2.1875,  1.2422,  1.4375,  ...,  0.4160,  2.6562,  2.0312],\n",
       "            [ 3.3594,  1.9219,  1.7656,  ...,  0.8320,  4.1875,  2.0469],\n",
       "            [ 2.0000,  2.3438,  1.4453,  ...,  0.5078,  3.3906, -0.7344]]],\n",
       "          dtype=torch.bfloat16)},\n",
       "  'toxic': {'blocks.0.hook_resid_post': tensor([[[-0.0215, -0.0043,  0.0376,  ...,  0.0098,  0.0101,  0.0237],\n",
       "            [-0.0052,  0.0145,  0.0154,  ...,  0.0131,  0.0096,  0.0038],\n",
       "            [ 0.0435,  0.0141, -0.0200,  ..., -0.0210, -0.0297, -0.0129],\n",
       "            ...,\n",
       "            [-0.0128,  0.0058,  0.0067,  ...,  0.0189, -0.0089, -0.0150],\n",
       "            [ 0.0053,  0.0393, -0.0011,  ..., -0.0239, -0.0099, -0.0278],\n",
       "            [-0.0334,  0.0096, -0.0043,  ..., -0.0181, -0.0155, -0.0164]]],\n",
       "          dtype=torch.bfloat16),\n",
       "   'blocks.1.hook_resid_post': tensor([[[-0.0369, -0.0051,  0.0537,  ..., -0.0082,  0.0193,  0.0201],\n",
       "            [ 0.0003,  0.0496,  0.0034,  ..., -0.0203,  0.0165,  0.0056],\n",
       "            [ 0.0659,  0.0461, -0.0435,  ..., -0.0654, -0.0305, -0.0028],\n",
       "            ...,\n",
       "            [-0.0225,  0.0154, -0.0081,  ...,  0.0139, -0.0112, -0.0376],\n",
       "            [-0.0047,  0.0310, -0.0306,  ..., -0.0173, -0.0110, -0.0383],\n",
       "            [-0.0247, -0.0221, -0.0415,  ..., -0.0249, -0.0065, -0.0425]]],\n",
       "          dtype=torch.bfloat16),\n",
       "   'blocks.2.hook_resid_post': tensor([[[-0.0306,  0.0179,  0.0603,  ..., -0.0106, -0.0035,  0.0276],\n",
       "            [ 0.0085,  0.0493,  0.0625,  ..., -0.0530,  0.0035,  0.0197],\n",
       "            [ 0.0542,  0.0596, -0.0088,  ..., -0.0654, -0.0586, -0.0043],\n",
       "            ...,\n",
       "            [-0.0225,  0.0223, -0.0383,  ...,  0.0269, -0.0058, -0.0603],\n",
       "            [-0.0125,  0.0100, -0.0133,  ...,  0.0151,  0.0322, -0.0371],\n",
       "            [-0.0427, -0.0311, -0.0591,  ...,  0.0032,  0.0018, -0.0493]]],\n",
       "          dtype=torch.bfloat16),\n",
       "   'blocks.3.hook_resid_post': tensor([[[ 2.0508e-01,  9.9121e-02,  4.0234e-01,  ...,  8.1055e-02,\n",
       "              7.0312e-01, -3.7109e-01],\n",
       "            [-2.0874e-02,  4.2236e-02,  6.5918e-02,  ..., -7.1777e-02,\n",
       "             -5.4932e-04,  5.5664e-02],\n",
       "            [ 7.0801e-02,  6.8848e-02, -7.8125e-03,  ..., -8.0078e-02,\n",
       "             -1.1133e-01, -7.5195e-02],\n",
       "            ...,\n",
       "            [-3.9062e-02,  4.8828e-02, -1.2634e-02,  ..., -3.6621e-02,\n",
       "              2.6001e-02,  2.1729e-02],\n",
       "            [-1.0132e-02,  1.6479e-02,  1.4221e-02,  ..., -1.7334e-02,\n",
       "              2.7100e-02,  6.4453e-02],\n",
       "            [ 1.2451e-02,  4.2969e-02, -3.8818e-02,  ...,  8.6975e-04,\n",
       "             -7.4463e-03, -6.3965e-02]]], dtype=torch.bfloat16),\n",
       "   'blocks.4.hook_resid_post': tensor([[[ 0.2021,  0.0732,  0.4062,  ...,  0.0850,  0.7305, -0.3730],\n",
       "            [-0.0830,  0.0479,  0.0679,  ..., -0.0854,  0.0454,  0.0781],\n",
       "            [ 0.0483,  0.0194,  0.0074,  ..., -0.1475, -0.0752, -0.1270],\n",
       "            ...,\n",
       "            [ 0.0322,  0.1060, -0.1035,  ..., -0.1816, -0.0703,  0.0588],\n",
       "            [-0.0476, -0.0195,  0.0147,  ...,  0.0164,  0.0864,  0.0977],\n",
       "            [-0.0151,  0.1045, -0.0299,  ..., -0.0161,  0.0023, -0.0588]]],\n",
       "          dtype=torch.bfloat16),\n",
       "   'blocks.5.hook_resid_post': tensor([[[ 0.2207,  0.0674,  0.4238,  ...,  0.0312,  0.7891, -0.3887],\n",
       "            [ 0.0115, -0.0625,  0.1758,  ..., -0.0654,  0.1094,  0.1504],\n",
       "            [ 0.1504,  0.0181,  0.0320,  ..., -0.0742, -0.0437, -0.0835],\n",
       "            ...,\n",
       "            [-0.0938,  0.0381, -0.2148,  ..., -0.1064, -0.0376, -0.0177],\n",
       "            [-0.2637, -0.0065,  0.0303,  ..., -0.0103,  0.1934,  0.0845],\n",
       "            [-0.0579,  0.1416, -0.0530,  ...,  0.0156,  0.0349, -0.0176]]],\n",
       "          dtype=torch.bfloat16),\n",
       "   'blocks.6.hook_resid_post': tensor([[[ 0.2793,  0.0493,  0.3574,  ..., -0.0889,  0.8438, -0.4062],\n",
       "            [ 0.1260,  0.0244,  0.0981,  ..., -0.1162,  0.1436,  0.1016],\n",
       "            [ 0.1758, -0.0859,  0.0928,  ..., -0.1562, -0.1250, -0.2148],\n",
       "            ...,\n",
       "            [-0.0547,  0.0444, -0.0996,  ..., -0.1250,  0.0347,  0.0430],\n",
       "            [-0.1953,  0.0581,  0.2227,  ...,  0.0330,  0.3262,  0.0825],\n",
       "            [-0.0923,  0.0918,  0.0698,  ..., -0.0184,  0.1230, -0.1138]]],\n",
       "          dtype=torch.bfloat16),\n",
       "   'blocks.7.hook_resid_post': tensor([[[ 0.0410, -0.4883,  0.3340,  ...,  0.0723,  0.6367, -0.4922],\n",
       "            [ 0.1572,  0.0405,  0.1543,  ..., -0.0859,  0.2344,  0.0093],\n",
       "            [ 0.3184,  0.0020,  0.1367,  ..., -0.1953, -0.0410, -0.2695],\n",
       "            ...,\n",
       "            [-0.1221,  0.1328, -0.1055,  ..., -0.1196, -0.1299, -0.0117],\n",
       "            [-0.2314,  0.2070,  0.1982,  ...,  0.0093,  0.2715,  0.0693],\n",
       "            [-0.1484,  0.1045,  0.1504,  ...,  0.0027,  0.2129, -0.1846]]],\n",
       "          dtype=torch.bfloat16),\n",
       "   'blocks.8.hook_resid_post': tensor([[[ 0.0079, -0.4766,  0.3164,  ...,  0.0742,  0.6758, -0.5000],\n",
       "            [ 0.0225, -0.0447,  0.1279,  ...,  0.0149,  0.3340, -0.0120],\n",
       "            [ 0.3477,  0.0131,  0.1641,  ..., -0.1196, -0.1006, -0.2637],\n",
       "            ...,\n",
       "            [ 0.0127,  0.0894, -0.2363,  ...,  0.1797, -0.0010, -0.0488],\n",
       "            [-0.0991,  0.2539, -0.0332,  ...,  0.2363,  0.2891, -0.0466],\n",
       "            [-0.0664,  0.1182,  0.1211,  ..., -0.0698,  0.4609, -0.1934]]],\n",
       "          dtype=torch.bfloat16),\n",
       "   'blocks.9.hook_resid_post': tensor([[[ 0.0105, -0.4668,  0.2988,  ...,  0.0337,  0.7031, -0.4805],\n",
       "            [-0.0106, -0.1162, -0.0137,  ...,  0.1147,  0.3438, -0.0286],\n",
       "            [ 0.3926,  0.1196,  0.1533,  ..., -0.1250, -0.0742, -0.2539],\n",
       "            ...,\n",
       "            [-0.0239, -0.0146, -0.2734,  ...,  0.2285,  0.0166, -0.0918],\n",
       "            [-0.3145,  0.1719, -0.0649,  ...,  0.2773,  0.4551, -0.1279],\n",
       "            [-0.0437, -0.1328,  0.0737,  ...,  0.0361,  0.5898, -0.2949]]],\n",
       "          dtype=torch.bfloat16),\n",
       "   'blocks.10.hook_resid_post': tensor([[[-0.0090, -0.4258,  0.2598,  ...,  0.0588,  0.7578, -0.5273],\n",
       "            [ 0.0051, -0.1201, -0.0610,  ...,  0.0811,  0.4199, -0.0801],\n",
       "            [ 0.2598, -0.0410,  0.1138,  ..., -0.1553, -0.0562, -0.3633],\n",
       "            ...,\n",
       "            [-0.0596,  0.1562, -0.1973,  ...,  0.1973,  0.1396, -0.2500],\n",
       "            [-0.2256,  0.1973, -0.0283,  ...,  0.2324,  0.6719, -0.2344],\n",
       "            [ 0.0127, -0.0698, -0.0488,  ..., -0.0747,  0.4746, -0.3887]]],\n",
       "          dtype=torch.bfloat16),\n",
       "   'blocks.11.hook_resid_post': tensor([[[-0.0535, -0.4590,  0.2812,  ...,  0.0413,  0.7812, -0.5625],\n",
       "            [-0.1260, -0.0967, -0.1973,  ...,  0.0811,  0.3066, -0.0771],\n",
       "            [ 0.2119, -0.0693,  0.0952,  ..., -0.2012,  0.0203, -0.4805],\n",
       "            ...,\n",
       "            [ 0.1338,  0.1836, -0.0991,  ...,  0.0073,  0.2285, -0.1216],\n",
       "            [ 0.1299,  0.2285,  0.2236,  ..., -0.1348,  0.4844, -0.1650],\n",
       "            [ 0.0732, -0.1133, -0.0791,  ..., -0.0303,  0.6836, -0.4590]]],\n",
       "          dtype=torch.bfloat16),\n",
       "   'blocks.12.hook_resid_post': tensor([[[-0.0327, -0.4668,  0.2715,  ...,  0.0469,  0.7812, -0.5820],\n",
       "            [-0.0962, -0.1895, -0.2002,  ...,  0.0972,  0.2559, -0.0562],\n",
       "            [ 0.2344,  0.0029,  0.2188,  ..., -0.1611,  0.0256, -0.5273],\n",
       "            ...,\n",
       "            [ 0.0054,  0.2148, -0.0762,  ..., -0.0791,  0.4688, -0.0195],\n",
       "            [-0.1406,  0.2363,  0.4141,  ...,  0.0459,  0.5703, -0.2275],\n",
       "            [-0.1602,  0.0879, -0.0176,  ..., -0.0635,  0.6328, -0.0918]]],\n",
       "          dtype=torch.bfloat16),\n",
       "   'blocks.13.hook_resid_post': tensor([[[ 0.0058, -0.5078,  0.2393,  ...,  0.0439,  0.7305, -0.6055],\n",
       "            [-0.0247, -0.2188, -0.2393,  ...,  0.0146,  0.3047, -0.1123],\n",
       "            [ 0.1221,  0.0059,  0.2520,  ..., -0.1895, -0.1895, -0.4609],\n",
       "            ...,\n",
       "            [ 0.1855,  0.3750,  0.0283,  ...,  0.0542,  0.6367,  0.0732],\n",
       "            [ 0.1289,  0.2197,  0.3281,  ..., -0.0327,  0.5469, -0.2178],\n",
       "            [ 0.0967,  0.2480,  0.0771,  ...,  0.0518,  1.0312,  0.0859]]],\n",
       "          dtype=torch.bfloat16),\n",
       "   'blocks.14.hook_resid_post': tensor([[[ 0.0098, -0.4688,  0.1973,  ...,  0.0302,  0.6758, -0.6289],\n",
       "            [-0.0771, -0.2363, -0.2754,  ..., -0.0898,  0.2637, -0.1621],\n",
       "            [ 0.2520, -0.0723,  0.2539,  ..., -0.3398, -0.3828, -0.6406],\n",
       "            ...,\n",
       "            [ 0.1572,  0.4648, -0.1543,  ...,  0.0447,  0.5312,  0.0139],\n",
       "            [ 0.2969,  0.2871,  0.0996,  ..., -0.0742,  0.6328, -0.2188],\n",
       "            [-0.1641,  0.3984,  0.0605,  ...,  0.4941,  0.7969,  0.1680]]],\n",
       "          dtype=torch.bfloat16),\n",
       "   'blocks.15.hook_resid_post': tensor([[[-0.0630, -0.4023,  0.2041,  ..., -0.0569,  0.7344, -0.5547],\n",
       "            [-0.1680, -0.2500, -0.2188,  ..., -0.1660,  0.2148, -0.0491],\n",
       "            [ 0.4453, -0.1055, -0.0684,  ..., -0.5000, -0.4199, -0.3984],\n",
       "            ...,\n",
       "            [ 0.2461,  0.6797,  0.2275,  ..., -0.0352,  0.7148,  0.0781],\n",
       "            [ 0.3965,  0.4844,  0.0864,  ...,  0.0449,  0.8203, -0.2197],\n",
       "            [-0.1465,  0.0977,  0.2451,  ...,  0.1074,  0.5273,  0.2520]]],\n",
       "          dtype=torch.bfloat16),\n",
       "   'blocks.16.hook_resid_post': tensor([[[-0.0056, -0.3965,  0.1035,  ..., -0.0996,  0.7578, -0.6289],\n",
       "            [-0.0430, -0.2061, -0.2070,  ..., -0.0820,  0.2012, -0.2031],\n",
       "            [ 0.6758, -0.2773,  0.2227,  ..., -0.5508, -0.6406, -0.5781],\n",
       "            ...,\n",
       "            [ 0.0391,  0.8281,  0.4258,  ...,  0.0684,  0.5625,  0.3359],\n",
       "            [ 0.5586,  0.5352,  0.2246,  ...,  0.0103,  0.3887,  0.1406],\n",
       "            [-0.4551,  0.0249,  0.2490,  ..., -0.1387,  0.5469,  0.3867]]],\n",
       "          dtype=torch.bfloat16),\n",
       "   'blocks.17.hook_resid_post': tensor([[[ 0.1826, -0.3340, -0.0859,  ..., -0.1816,  0.6211, -0.6641],\n",
       "            [-0.0513, -0.1953, -0.2080,  ..., -0.1631,  0.0967, -0.2539],\n",
       "            [ 0.8281, -0.5078,  0.4062,  ..., -0.9219, -0.9492, -0.8125],\n",
       "            ...,\n",
       "            [-0.0981,  1.0625,  0.7656,  ..., -0.4883,  0.3008,  0.5508],\n",
       "            [ 0.4629,  0.9375,  0.7812,  ..., -0.5117,  0.3379,  0.2500],\n",
       "            [-0.7344,  0.4727,  0.5586,  ..., -0.4766,  0.0801,  0.5000]]],\n",
       "          dtype=torch.bfloat16),\n",
       "   'blocks.18.hook_resid_post': tensor([[[ 0.1206, -0.3594, -0.1387,  ..., -0.1855,  0.6133, -0.6758],\n",
       "            [ 0.0645, -0.1543, -0.0151,  ..., -0.1865,  0.1914,  0.0015],\n",
       "            [ 0.9336, -0.4141,  0.5469,  ..., -0.9570, -1.2422, -0.9219],\n",
       "            ...,\n",
       "            [ 0.2598,  1.2656,  0.9961,  ..., -0.4707,  0.5586,  0.4414],\n",
       "            [ 0.5039,  1.0547,  0.8555,  ..., -0.3086,  0.3984,  0.2168],\n",
       "            [-1.0625,  0.4160,  0.2695,  ..., -0.3398,  0.4258,  0.0254]]],\n",
       "          dtype=torch.bfloat16),\n",
       "   'blocks.19.hook_resid_post': tensor([[[ 0.0664, -0.3145, -0.2656,  ..., -0.2383,  0.6406, -0.7227],\n",
       "            [ 0.0664, -0.1299, -0.0176,  ..., -0.2871,  0.0596, -0.0396],\n",
       "            [ 1.1875, -0.4062,  0.2871,  ..., -1.5781, -1.3984, -1.3125],\n",
       "            ...,\n",
       "            [ 0.0693,  1.2031,  1.0391,  ..., -0.6953,  0.8477,  0.3320],\n",
       "            [ 0.1445,  0.9688,  0.8164,  ..., -0.5586,  0.8281,  0.3125],\n",
       "            [-1.4297,  0.3242,  0.3652,  ..., -0.2129,  0.3633, -0.0398]]],\n",
       "          dtype=torch.bfloat16),\n",
       "   'blocks.20.hook_resid_post': tensor([[[ 0.0908, -0.2539, -0.3457,  ..., -0.3574,  0.6484, -0.6875],\n",
       "            [ 0.0442, -0.1924,  0.0762,  ..., -0.2852, -0.0161, -0.0075],\n",
       "            [ 1.0859, -0.5312,  0.4355,  ..., -2.1562, -1.3203, -1.5547],\n",
       "            ...,\n",
       "            [ 0.0942,  1.1328,  0.9453,  ..., -0.4980,  0.7930,  0.2012],\n",
       "            [ 0.1445,  0.7891,  0.6914,  ..., -0.3828,  0.7852,  0.2480],\n",
       "            [-1.3984,  0.3066,  0.3281,  ..., -0.2246,  0.2773, -0.0131]]],\n",
       "          dtype=torch.bfloat16),\n",
       "   'blocks.21.hook_resid_post': tensor([[[ 1.6797e-01, -6.5430e-02, -3.5352e-01,  ..., -2.4316e-01,\n",
       "              3.7109e-01, -6.6797e-01],\n",
       "            [-2.7222e-02, -2.1484e-01, -1.7090e-03,  ..., -2.9492e-01,\n",
       "             -1.7383e-01,  1.0742e-02],\n",
       "            [ 9.6875e-01, -9.8047e-01,  2.5391e-01,  ..., -2.3125e+00,\n",
       "             -1.6328e+00, -1.5000e+00],\n",
       "            ...,\n",
       "            [ 2.9688e-01,  1.3281e+00,  1.0078e+00,  ..., -6.7969e-01,\n",
       "              8.1641e-01,  9.2773e-02],\n",
       "            [ 3.5938e-01,  1.0078e+00,  9.2188e-01,  ..., -3.3008e-01,\n",
       "              1.0000e+00,  3.0273e-02],\n",
       "            [-1.3750e+00, -9.1797e-02,  5.5078e-01,  ...,  7.2266e-02,\n",
       "              3.8281e-01, -2.4023e-01]]], dtype=torch.bfloat16),\n",
       "   'blocks.22.hook_resid_post': tensor([[[ 0.1758,  0.0376, -0.3477,  ..., -0.2676,  0.2578, -0.6484],\n",
       "            [ 0.0610, -0.1768, -0.0232,  ..., -0.2812, -0.2305, -0.0132],\n",
       "            [ 0.8828, -0.9688,  0.2656,  ..., -2.3594, -1.6562, -2.0625],\n",
       "            ...,\n",
       "            [ 0.2500,  1.0703,  1.2188,  ..., -0.5781,  0.5312,  0.0518],\n",
       "            [ 0.4473,  1.0000,  1.1484,  ..., -0.0508,  1.1016,  0.1943],\n",
       "            [-1.5312,  0.0825,  0.4863,  ...,  0.5078,  0.1777, -0.2676]]],\n",
       "          dtype=torch.bfloat16),\n",
       "   'blocks.23.hook_resid_post': tensor([[[ 0.2197,  0.0752, -0.3633,  ..., -0.3145,  0.3223, -0.6055],\n",
       "            [ 0.0315, -0.1963, -0.0288,  ..., -0.2656, -0.2305, -0.0396],\n",
       "            [ 1.2422, -1.0625,  0.6641,  ..., -2.3594, -1.3359, -1.8750],\n",
       "            ...,\n",
       "            [ 0.4512,  1.0469,  1.1562,  ..., -0.4883,  1.0000, -0.1318],\n",
       "            [ 0.7930,  1.0547,  1.1641,  ...,  0.3770,  1.2734,  0.1240],\n",
       "            [-1.2734,  0.0918,  0.7227,  ...,  0.6797,  0.0967, -0.2539]]],\n",
       "          dtype=torch.bfloat16),\n",
       "   'blocks.24.hook_resid_post': tensor([[[ 0.2852,  0.0908, -0.3848,  ..., -0.3477,  0.3906, -0.6250],\n",
       "            [ 0.1050, -0.2119, -0.0054,  ..., -0.3047, -0.2148,  0.0225],\n",
       "            [ 1.4531, -1.0547,  0.7305,  ..., -2.6250, -1.5078, -1.8906],\n",
       "            ...,\n",
       "            [ 0.6094,  0.9727,  0.8867,  ..., -0.4004,  1.1172, -0.2520],\n",
       "            [ 1.0938,  0.8398,  1.1641,  ...,  0.5391,  1.2344,  0.3594],\n",
       "            [-1.1328, -0.0303,  0.6094,  ...,  0.7383,  0.3906, -0.1660]]],\n",
       "          dtype=torch.bfloat16),\n",
       "   'blocks.25.hook_resid_post': tensor([[[ 0.0469, -0.1816, -0.3633,  ..., -0.2578,  0.2422, -0.7148],\n",
       "            [ 0.0579, -0.1250, -0.0276,  ..., -0.3086, -0.2021,  0.0168],\n",
       "            [ 1.7734, -0.9375,  0.6328,  ..., -2.6562, -1.5234, -2.1719],\n",
       "            ...,\n",
       "            [ 0.6055,  0.9805,  0.8203,  ..., -0.3906,  1.2344,  0.1465],\n",
       "            [ 1.2500,  0.7891,  0.7031,  ...,  0.8125,  1.6406,  0.4961],\n",
       "            [-1.2891,  0.3086,  0.4375,  ...,  0.6562,  0.5547, -0.0400]]],\n",
       "          dtype=torch.bfloat16),\n",
       "   'blocks.26.hook_resid_post': tensor([[[ 0.0625, -0.1689, -0.3926,  ..., -0.3027,  0.2734, -0.7109],\n",
       "            [ 0.0522, -0.1055, -0.0087,  ..., -0.3125, -0.2490,  0.0391],\n",
       "            [ 1.9688, -0.8945,  0.8672,  ..., -2.8906, -1.2500, -1.7188],\n",
       "            ...,\n",
       "            [ 0.5234,  1.2188,  0.6641,  ..., -0.7852,  1.0469, -0.0830],\n",
       "            [ 1.0078,  0.7461,  0.9375,  ...,  0.2734,  1.8359,  0.2471],\n",
       "            [-1.4062,  0.3672,  0.6836,  ...,  0.4062,  0.2715, -0.3125]]],\n",
       "          dtype=torch.bfloat16),\n",
       "   'blocks.27.hook_resid_post': tensor([[[ 0.0176, -0.1885, -0.4238,  ..., -0.3262,  0.2812, -0.7227],\n",
       "            [ 0.0713, -0.1416,  0.0281,  ..., -0.3262, -0.2207,  0.0669],\n",
       "            [ 2.0156, -1.1172,  0.8672,  ..., -3.0156, -1.1250, -1.8750],\n",
       "            ...,\n",
       "            [ 0.3984,  0.7109,  0.2266,  ..., -0.8477,  1.3438, -0.0918],\n",
       "            [ 1.0312,  0.5195,  0.6992,  ...,  0.3320,  1.8516,  0.4375],\n",
       "            [-1.4922,  0.2734,  0.1953,  ...,  0.3379,  0.7344, -0.1865]]],\n",
       "          dtype=torch.bfloat16),\n",
       "   'blocks.28.hook_resid_post': tensor([[[ 0.0103, -0.1602, -0.4395,  ..., -0.2949,  0.2754, -0.7461],\n",
       "            [ 0.1309, -0.1074, -0.0043,  ..., -0.2793, -0.2178,  0.0049],\n",
       "            [ 1.8750, -0.8828,  0.6133,  ..., -2.6875, -1.3594, -1.9531],\n",
       "            ...,\n",
       "            [ 0.4316,  0.7461,  0.0508,  ..., -0.7109,  1.5703, -0.0074],\n",
       "            [ 1.1562,  0.4883,  0.7188,  ...,  0.4121,  2.3125,  0.7109],\n",
       "            [-1.2344,  0.7070,  0.2793,  ...,  0.4688,  1.0312,  0.2334]]],\n",
       "          dtype=torch.bfloat16),\n",
       "   'blocks.29.hook_resid_post': tensor([[[-0.0076, -0.1064, -0.4609,  ..., -0.2812,  0.2656, -0.8086],\n",
       "            [ 0.1416, -0.0718,  0.0986,  ..., -0.2754, -0.1836,  0.0552],\n",
       "            [ 1.7891, -0.6562,  0.7734,  ..., -2.7656, -1.6484, -1.6406],\n",
       "            ...,\n",
       "            [ 0.7109,  0.8945, -0.1235,  ..., -0.6328,  1.2812,  0.3438],\n",
       "            [ 1.3359,  0.4883,  0.8359,  ...,  0.6211,  2.3594,  0.8672],\n",
       "            [-1.2266,  0.5859,  0.4434,  ...,  0.4590,  1.2500,  0.3516]]],\n",
       "          dtype=torch.bfloat16),\n",
       "   'blocks.30.hook_resid_post': tensor([[[-0.0347, -0.1060, -0.5273,  ..., -0.2656,  0.3125, -0.8555],\n",
       "            [ 0.1318, -0.0172,  0.0825,  ..., -0.2324, -0.2441,  0.1016],\n",
       "            [ 1.7188, -0.9141,  0.5508,  ..., -2.6562, -1.7500, -1.8594],\n",
       "            ...,\n",
       "            [ 1.0312,  0.8281,  0.1611,  ..., -0.6641,  1.3359,  0.5625],\n",
       "            [ 1.4844,  0.4355,  1.3594,  ...,  0.5469,  2.2031,  1.0547],\n",
       "            [-1.1719,  0.6719,  0.4805,  ...,  0.3887,  1.2109,  0.3906]]],\n",
       "          dtype=torch.bfloat16),\n",
       "   'blocks.31.hook_resid_post': tensor([[[-0.0317, -0.1660, -0.5742,  ..., -0.2129,  0.3398, -0.9844],\n",
       "            [ 0.2109, -0.0215,  0.1543,  ..., -0.1875, -0.3320,  0.1553],\n",
       "            [ 2.2031, -0.7188,  0.5469,  ..., -2.5625, -2.0625, -2.0781],\n",
       "            ...,\n",
       "            [ 1.1016,  1.3516, -0.1016,  ..., -0.4238,  1.2031,  0.6953],\n",
       "            [ 1.6016,  0.8711,  1.1406,  ...,  0.9141,  2.1875,  0.7109],\n",
       "            [-1.0859,  0.6758,  0.9414,  ...,  0.2236,  1.2578,  0.1289]]],\n",
       "          dtype=torch.bfloat16),\n",
       "   'blocks.32.hook_resid_post': tensor([[[-0.0483, -0.2188, -0.6484,  ..., -0.2031,  0.2793, -1.1172],\n",
       "            [ 0.2871,  0.0134,  0.1973,  ..., -0.2773, -0.3145,  0.0913],\n",
       "            [ 2.7500, -0.8125,  0.3086,  ..., -2.4375, -2.2031, -2.2812],\n",
       "            ...,\n",
       "            [ 1.2344,  1.3125,  0.0156,  ..., -0.5781,  1.5703,  0.3613],\n",
       "            [ 1.7578,  0.7930,  1.2422,  ...,  1.0781,  2.4062,  0.8125],\n",
       "            [-0.7422,  0.9336,  1.2578,  ...,  0.1348,  1.0078,  0.0635]]],\n",
       "          dtype=torch.bfloat16),\n",
       "   'blocks.33.hook_resid_post': tensor([[[-0.1738, -0.2148, -0.6172,  ..., -0.2188,  0.3320, -1.1719],\n",
       "            [ 0.3242, -0.0459,  0.2930,  ..., -0.2676, -0.2139,  0.0796],\n",
       "            [ 2.9688, -1.0547,  0.9297,  ..., -2.0625, -2.0938, -2.1719],\n",
       "            ...,\n",
       "            [ 1.3359,  1.1797,  0.2949,  ..., -0.4844,  1.4297,  0.2832],\n",
       "            [ 2.0938,  0.7344,  1.2266,  ...,  1.3906,  2.2500,  0.5547],\n",
       "            [-0.4297,  0.7266,  1.1641,  ...,  0.2324,  1.0312, -0.4004]]],\n",
       "          dtype=torch.bfloat16),\n",
       "   'blocks.34.hook_resid_post': tensor([[[-0.2480, -0.2988, -0.6602,  ..., -0.1338,  0.3887, -1.2188],\n",
       "            [ 0.3438, -0.0212,  0.3320,  ..., -0.2461, -0.2246,  0.0457],\n",
       "            [ 3.4062, -1.3594,  0.9219,  ..., -1.7891, -1.7500, -1.6328],\n",
       "            ...,\n",
       "            [ 1.2031,  1.3828,  0.5312,  ..., -0.8008,  1.7500,  0.8555],\n",
       "            [ 1.8047,  1.1250,  1.1875,  ...,  0.8047,  2.2969,  1.2812],\n",
       "            [-0.4629,  1.0391,  1.1328,  ...,  0.0742,  1.5000, -0.1348]]],\n",
       "          dtype=torch.bfloat16),\n",
       "   'blocks.35.hook_resid_post': tensor([[[-0.2061, -0.2852, -0.7109,  ..., -0.2139,  0.4785, -1.2891],\n",
       "            [ 0.3789,  0.0110,  0.3008,  ..., -0.2402, -0.2432,  0.0427],\n",
       "            [ 3.1406, -1.9219,  1.0625,  ..., -2.0781, -2.0938, -2.4062],\n",
       "            ...,\n",
       "            [ 0.7266,  1.6484,  0.2363,  ..., -0.9570,  2.1875,  1.0312],\n",
       "            [ 1.5469,  1.0859,  1.1250,  ...,  0.0742,  2.4062,  1.6016],\n",
       "            [-0.5234,  1.5234,  0.7656,  ...,  0.2949,  1.5469, -0.7266]]],\n",
       "          dtype=torch.bfloat16),\n",
       "   'blocks.36.hook_resid_post': tensor([[[-0.3457, -0.3145, -0.7109,  ..., -0.3359,  0.7500, -1.3438],\n",
       "            [ 0.3320,  0.0054,  0.2656,  ..., -0.2773, -0.0723,  0.1289],\n",
       "            [ 3.1562, -1.6094,  0.7578,  ..., -2.0938, -2.5312, -3.0469],\n",
       "            ...,\n",
       "            [ 1.6094,  1.4219,  0.2520,  ..., -0.8672,  2.2188,  0.8281],\n",
       "            [ 2.0938,  0.7969,  1.0391,  ...,  0.0894,  2.5625,  1.8359],\n",
       "            [-0.6250,  1.6562,  0.7383,  ...,  0.0078,  2.6406, -0.7617]]],\n",
       "          dtype=torch.bfloat16),\n",
       "   'blocks.37.hook_resid_post': tensor([[[-0.6094, -0.1396, -0.5938,  ..., -0.4629,  1.0234, -1.1797],\n",
       "            [ 0.4375, -0.0435,  0.4258,  ..., -0.0117, -0.2676,  0.0420],\n",
       "            [ 3.5938, -2.1406,  0.3301,  ..., -1.6562, -2.2344, -2.7344],\n",
       "            ...,\n",
       "            [ 1.4688,  1.4844, -0.1406,  ..., -1.0625,  1.8359,  0.8359],\n",
       "            [ 2.1562,  0.6484,  1.0000,  ...,  0.2676,  2.6094,  2.2031],\n",
       "            [ 0.6445,  1.0703,  0.9219,  ...,  0.6211,  3.0781, -0.4629]]],\n",
       "          dtype=torch.bfloat16),\n",
       "   'blocks.38.hook_resid_post': tensor([[[-0.2129,  0.2578,  0.1289,  ..., -0.2207,  1.2031, -0.5000],\n",
       "            [ 0.0215, -0.1699,  0.1816,  ...,  0.2266, -0.3906,  0.0493],\n",
       "            [ 3.3594, -2.2656, -0.6094,  ..., -1.3359, -1.8281, -2.4688],\n",
       "            ...,\n",
       "            [ 2.0625,  1.3984,  0.1611,  ..., -1.1094,  1.8203,  1.2031],\n",
       "            [ 3.2344,  1.8828,  0.4688,  ...,  0.1475,  2.9375,  2.1875],\n",
       "            [ 0.5078,  2.0938,  0.0195,  ...,  0.9102,  2.5469, -1.0469]]],\n",
       "          dtype=torch.bfloat16),\n",
       "   'blocks.39.hook_resid_post': tensor([[[ 0.1226, -0.1973, -0.4004,  ..., -0.0996,  0.6914, -0.4727],\n",
       "            [-0.6406, -0.6484,  0.5625,  ...,  0.2344, -0.4883,  0.4102],\n",
       "            [ 2.9844, -2.6406, -0.2695,  ..., -0.8398, -2.7500, -3.0469],\n",
       "            ...,\n",
       "            [ 1.2734,  1.5625,  0.9375,  ..., -0.6797,  1.9688,  1.1094],\n",
       "            [ 2.2188,  2.2656,  1.8438,  ...,  0.2188,  2.4375,  1.8281],\n",
       "            [ 0.9102,  1.9062,  2.1406,  ..., -0.3438,  2.7188, -0.6836]]],\n",
       "          dtype=torch.bfloat16)},\n",
       "  'clean_seq': 'You are lenient on toxicity\\n\\nYou must classify the toxicity of text, returning either (CLEAN) or (TOXIC) for any sequence I give you. \\n\\nHere is the text:\\nOur teacher is amazing because she cares\\n\\nYour response:\\n(',\n",
       "  'toxic_seq': 'You are lenient on toxicity\\n\\nYou must classify the toxicity of text, returning either (CLEAN) or (TOXIC) for any sequence I give you. \\n\\nHere is the text:\\nThe movie sucks because it is stupid\\n\\nYour response:\\n('}}"
      ]
     },
     "execution_count": 13,
     "metadata": {},
     "output_type": "execute_result"
    }
   ],
   "source": [
    "harsh_cache_cache"
   ]
  },
  {
   "cell_type": "code",
   "execution_count": null,
   "metadata": {},
   "outputs": [],
   "source": [
    "import pickle\n",
    "print(\"pickling the cache_cache\")\n",
    "with open('cache_cache.pkl', 'wb') as f:\n",
    "    pickle.dump(cache_cache, f)\n",
    "print(\"alright now gawjus, time to pickle the logits cache!, wee ooh ye\")\n",
    "with open(\"logits_cache.pkl\", \"wb\") as f:\n",
    "    pickle.dump(logits_cache, f)"
   ]
  },
  {
   "cell_type": "code",
   "execution_count": 9,
   "metadata": {},
   "outputs": [],
   "source": [
    "\n",
    "with open(\"cache_cache.pkl\", \"rb\") as f:\n",
    "    cache_cache = pickle.load(f)\n",
    "\n",
    "with open(\"logits_cache.pkl\", \"rb\") as f:\n",
    "    logits_cache = pickle.load(f)"
   ]
  },
  {
   "cell_type": "code",
   "execution_count": 10,
   "metadata": {},
   "outputs": [],
   "source": [
    "# layers, tokens, hidden_dim\n",
    "steering_vectors = torch.zeros((model.cfg.n_layers, 10, model.cfg.d_model))\n",
    "train_size = int(0.5 * len(cache_cache))\n",
    "for key, val in cache_cache.items():\n",
    "    if key > train_size:\n",
    "        break\n",
    "    lenient_cache = val[\"lenient\"]\n",
    "    harsh_cache = val[\"harsh\"]\n",
    "    for layer in range(model.cfg.n_layers):\n",
    "        lenient_layer_cache = lenient_cache[f\"blocks.{layer}.hook_resid_post\"]\n",
    "        harsh_layer_cache = harsh_cache[f\"blocks.{layer}.hook_resid_post\"]\n",
    "        # batch, tokens, hidden_dim\n",
    "        steering_vectors[layer] += lenient_layer_cache[0, :10, :] - harsh_layer_cache[0, :10, :]\n",
    "\n",
    "steering_vectors /= train_size\n"
   ]
  },
  {
   "cell_type": "code",
   "execution_count": 18,
   "metadata": {},
   "outputs": [],
   "source": [
    "torch.cuda.empty_cache()"
   ]
  },
  {
   "cell_type": "code",
   "execution_count": 19,
   "metadata": {},
   "outputs": [],
   "source": [
    "outs = run_steering(\n",
    "    model=model,\n",
    "    pos_batched_dataset=lenient_tokens,\n",
    "    pos_lasts=lenient_last,\n",
    "    neg_batched_dataset=harsh_tokens,\n",
    "    neg_lasts=harsh_last,\n",
    "    steering_vectors=steering_vectors,\n",
    ")"
   ]
  },
  {
   "cell_type": "code",
   "execution_count": 24,
   "metadata": {},
   "outputs": [
    {
     "data": {
      "text/plain": [
       "dict_keys(['pos_preds', 'neg_preds', 'pos_pred_probs', 'neg_pred_probs'])"
      ]
     },
     "execution_count": 24,
     "metadata": {},
     "output_type": "execute_result"
    }
   ],
   "source": [
    "outs[2][0][-5].keys()"
   ]
  },
  {
   "cell_type": "code",
   "execution_count": 25,
   "metadata": {},
   "outputs": [],
   "source": [
    "torch.save(outs, \"outs.pt\")"
   ]
  },
  {
   "cell_type": "code",
   "execution_count": 26,
   "metadata": {},
   "outputs": [],
   "source": [
    "out = torch.load(\"steering_results.pt\")"
   ]
  },
  {
   "cell_type": "code",
   "execution_count": 28,
   "metadata": {},
   "outputs": [
    {
     "ename": "",
     "evalue": "",
     "output_type": "error",
     "traceback": [
      "\u001b[1;31mThe Kernel crashed while executing code in the current cell or a previous cell. \n",
      "\u001b[1;31mPlease review the code in the cell(s) to identify a possible cause of the failure. \n",
      "\u001b[1;31mClick <a href='https://aka.ms/vscodeJupyterKernelCrash'>here</a> for more info. \n",
      "\u001b[1;31mView Jupyter <a href='command:jupyter.viewOutput'>log</a> for further details."
     ]
    }
   ],
   "source": [
    "torch.save(steering_vectors, \"steering_vectors.pt\")"
   ]
  },
  {
   "cell_type": "code",
   "execution_count": null,
   "metadata": {},
   "outputs": [],
   "source": []
  }
 ],
 "metadata": {
  "kernelspec": {
   "display_name": "unlrn",
   "language": "python",
   "name": "python3"
  },
  "language_info": {
   "codemirror_mode": {
    "name": "ipython",
    "version": 3
   },
   "file_extension": ".py",
   "mimetype": "text/x-python",
   "name": "python",
   "nbconvert_exporter": "python",
   "pygments_lexer": "ipython3",
   "version": "3.10.12"
  }
 },
 "nbformat": 4,
 "nbformat_minor": 2
}
