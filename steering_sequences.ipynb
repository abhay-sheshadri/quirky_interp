{
 "cells": [
  {
   "cell_type": "code",
   "execution_count": 1,
   "metadata": {},
   "outputs": [],
   "source": [
    "import torch\n",
    "import matplotlib.pyplot as plt\n",
    "import matplotlib.cm as cm\n",
    "import numpy as np\n",
    "from transformer_lens import HookedTransformer\n",
    "from transformers import AutoModelForCausalLM, AutoTokenizer\n",
    "from src import *\n"
   ]
  },
  {
   "cell_type": "code",
   "execution_count": 2,
   "metadata": {},
   "outputs": [
    {
     "data": {
      "application/vnd.jupyter.widget-view+json": {
       "model_id": "d5a5118ab100454d9f8c4e8ffb75ba4c",
       "version_major": 2,
       "version_minor": 0
      },
      "text/plain": [
       "Loading checkpoint shards:   0%|          | 0/3 [00:00<?, ?it/s]"
      ]
     },
     "metadata": {},
     "output_type": "display_data"
    },
    {
     "name": "stdout",
     "output_type": "stream",
     "text": [
      "Loaded pretrained model llama-13b into HookedTransformer\n",
      "Moving model to device:  cuda\n"
     ]
    }
   ],
   "source": [
    "# llama = AutoModelForCausalLM.from_pretrained(\"meta-llama/Llama-2-13b-chat-hf\", torch_dtype=torch.bfloat16)\n",
    "# tokenizer = AutoTokenizer.from_pretrained(\"meta-llama/Llama-2-13b-chat-hf\")\n",
    "\n",
    "llama, tokenizer = load_model_from_transformers(\"meta-llama/Llama-2-13b-chat-hf\")\n",
    "hooked_llama = from_hf_to_tlens(llama, tokenizer, \"llama-13b\")"
   ]
  },
  {
   "cell_type": "code",
   "execution_count": 7,
   "metadata": {},
   "outputs": [
    {
     "data": {
      "text/plain": [
       "tensor([[    1, 29871,   315]], device='cuda:0')"
      ]
     },
     "execution_count": 7,
     "metadata": {},
     "output_type": "execute_result"
    }
   ],
   "source": [
    "hooked_llama.to_tokens(\" C\")"
   ]
  },
  {
   "cell_type": "code",
   "execution_count": 8,
   "metadata": {},
   "outputs": [
    {
     "data": {
      "text/plain": [
       "tensor([[    1,   313, 29907]], device='cuda:0')"
      ]
     },
     "execution_count": 8,
     "metadata": {},
     "output_type": "execute_result"
    }
   ],
   "source": [
    "hooked_llama.to_tokens(\"(C\")"
   ]
  },
  {
   "cell_type": "code",
   "execution_count": 9,
   "metadata": {},
   "outputs": [
    {
     "data": {
      "text/plain": [
       "''"
      ]
     },
     "execution_count": 9,
     "metadata": {},
     "output_type": "execute_result"
    }
   ],
   "source": [
    "hooked_llama.tokenizer.decode([29871])"
   ]
  },
  {
   "cell_type": "code",
   "execution_count": 5,
   "metadata": {},
   "outputs": [
    {
     "data": {
      "text/plain": [
       "'C'"
      ]
     },
     "execution_count": 5,
     "metadata": {},
     "output_type": "execute_result"
    }
   ],
   "source": [
    "hooked_llama.tokenizer.decode([29907])"
   ]
  },
  {
   "cell_type": "code",
   "execution_count": 6,
   "metadata": {},
   "outputs": [
    {
     "data": {
      "text/plain": [
       "'C'"
      ]
     },
     "execution_count": 6,
     "metadata": {},
     "output_type": "execute_result"
    }
   ],
   "source": [
    "hooked_llama.tokenizer.decode([315])"
   ]
  },
  {
   "cell_type": "code",
   "execution_count": 36,
   "metadata": {},
   "outputs": [],
   "source": [
    "lenient_sequence_results = torch.load('harsh_steering_results.pt')\n",
    "harsh_sequence_results = torch.load('harsh_steering_results.pt')"
   ]
  },
  {
   "cell_type": "code",
   "execution_count": 45,
   "metadata": {},
   "outputs": [
    {
     "data": {
      "text/plain": [
       "tensor([[29907],\n",
       "        [29907],\n",
       "        [29907],\n",
       "        [29907],\n",
       "        [29907],\n",
       "        [29907],\n",
       "        [29907],\n",
       "        [29907],\n",
       "        [29907],\n",
       "        [29907],\n",
       "        [29907],\n",
       "        [29907],\n",
       "        [29907],\n",
       "        [29907],\n",
       "        [29907],\n",
       "        [29907],\n",
       "        [29907],\n",
       "        [29907],\n",
       "        [29907],\n",
       "        [29907],\n",
       "        [29907],\n",
       "        [29907],\n",
       "        [29907],\n",
       "        [29907],\n",
       "        [29907],\n",
       "        [29907],\n",
       "        [29907],\n",
       "        [29907],\n",
       "        [29907],\n",
       "        [29907],\n",
       "        [29907],\n",
       "        [29907],\n",
       "        [29907],\n",
       "        [29907],\n",
       "        [29907],\n",
       "        [29907],\n",
       "        [29907],\n",
       "        [29907],\n",
       "        [29907],\n",
       "        [29907],\n",
       "        [29907],\n",
       "        [29907],\n",
       "        [29907],\n",
       "        [29907],\n",
       "        [29907],\n",
       "        [29907],\n",
       "        [29907],\n",
       "        [29907],\n",
       "        [29907],\n",
       "        [29907],\n",
       "        [29907],\n",
       "        [29907],\n",
       "        [29907],\n",
       "        [29907],\n",
       "        [29907],\n",
       "        [29907],\n",
       "        [29907],\n",
       "        [29907],\n",
       "        [29907],\n",
       "        [29907],\n",
       "        [29907],\n",
       "        [29907],\n",
       "        [29907],\n",
       "        [29907],\n",
       "        [29907],\n",
       "        [29907],\n",
       "        [29907],\n",
       "        [29907],\n",
       "        [29907],\n",
       "        [29907],\n",
       "        [29907],\n",
       "        [29907],\n",
       "        [29907],\n",
       "        [29907],\n",
       "        [29907],\n",
       "        [29907],\n",
       "        [29907],\n",
       "        [29907],\n",
       "        [29907],\n",
       "        [29907],\n",
       "        [29907],\n",
       "        [29907],\n",
       "        [29907],\n",
       "        [29907],\n",
       "        [29907],\n",
       "        [29907],\n",
       "        [29907],\n",
       "        [29907],\n",
       "        [29907],\n",
       "        [29907],\n",
       "        [29907],\n",
       "        [29907],\n",
       "        [29907],\n",
       "        [29907],\n",
       "        [29907],\n",
       "        [29907],\n",
       "        [29907],\n",
       "        [29907],\n",
       "        [29907],\n",
       "        [29907],\n",
       "        [29907],\n",
       "        [29907],\n",
       "        [29907],\n",
       "        [29907],\n",
       "        [29907],\n",
       "        [29907],\n",
       "        [29907],\n",
       "        [29907],\n",
       "        [29907],\n",
       "        [29907],\n",
       "        [29907],\n",
       "        [29907],\n",
       "        [29907],\n",
       "        [29907],\n",
       "        [29907],\n",
       "        [29907],\n",
       "        [29907],\n",
       "        [29907],\n",
       "        [29907],\n",
       "        [29907],\n",
       "        [29907],\n",
       "        [29907],\n",
       "        [29907],\n",
       "        [29907],\n",
       "        [29907],\n",
       "        [29907],\n",
       "        [29907],\n",
       "        [29907],\n",
       "        [29907],\n",
       "        [29907],\n",
       "        [29907],\n",
       "        [29907],\n",
       "        [29907],\n",
       "        [29907],\n",
       "        [29907],\n",
       "        [29907],\n",
       "        [29907],\n",
       "        [29907],\n",
       "        [29907],\n",
       "        [29907],\n",
       "        [29907],\n",
       "        [29907],\n",
       "        [29907],\n",
       "        [29907],\n",
       "        [29907],\n",
       "        [29907],\n",
       "        [29907],\n",
       "        [29907],\n",
       "        [29907],\n",
       "        [29907],\n",
       "        [29907],\n",
       "        [29907],\n",
       "        [29907],\n",
       "        [ 4986],\n",
       "        [29907],\n",
       "        [29907],\n",
       "        [29907],\n",
       "        [29907],\n",
       "        [29907],\n",
       "        [29907],\n",
       "        [29907],\n",
       "        [29907],\n",
       "        [29907],\n",
       "        [29907],\n",
       "        [29907],\n",
       "        [29907],\n",
       "        [29907],\n",
       "        [29907],\n",
       "        [29907],\n",
       "        [29907],\n",
       "        [29907],\n",
       "        [29907],\n",
       "        [29907],\n",
       "        [29907],\n",
       "        [29907],\n",
       "        [29907],\n",
       "        [29907],\n",
       "        [29907],\n",
       "        [29907],\n",
       "        [29907],\n",
       "        [29907],\n",
       "        [29907],\n",
       "        [29907],\n",
       "        [29907],\n",
       "        [29907],\n",
       "        [29907],\n",
       "        [29907],\n",
       "        [29907],\n",
       "        [29907],\n",
       "        [29907],\n",
       "        [29907],\n",
       "        [29907],\n",
       "        [29907],\n",
       "        [29907],\n",
       "        [29907],\n",
       "        [29907],\n",
       "        [29907],\n",
       "        [29907],\n",
       "        [29907],\n",
       "        [29907],\n",
       "        [29907],\n",
       "        [29907],\n",
       "        [29907],\n",
       "        [29907],\n",
       "        [29907],\n",
       "        [29907],\n",
       "        [29907],\n",
       "        [29907],\n",
       "        [29907],\n",
       "        [29907],\n",
       "        [29907],\n",
       "        [29907],\n",
       "        [29907],\n",
       "        [29907],\n",
       "        [29907],\n",
       "        [29907],\n",
       "        [29907],\n",
       "        [29907],\n",
       "        [29907],\n",
       "        [29907],\n",
       "        [29907],\n",
       "        [29907],\n",
       "        [29907],\n",
       "        [29907],\n",
       "        [29907],\n",
       "        [29907],\n",
       "        [29907],\n",
       "        [29907],\n",
       "        [29907],\n",
       "        [29907],\n",
       "        [29907],\n",
       "        [29907],\n",
       "        [29907],\n",
       "        [29907],\n",
       "        [29907],\n",
       "        [29907],\n",
       "        [29907],\n",
       "        [29907],\n",
       "        [29907],\n",
       "        [29907],\n",
       "        [29907],\n",
       "        [29907],\n",
       "        [29907],\n",
       "        [29907],\n",
       "        [29907],\n",
       "        [29907],\n",
       "        [29907],\n",
       "        [29907],\n",
       "        [29907],\n",
       "        [29907],\n",
       "        [29907],\n",
       "        [29907],\n",
       "        [29907]])"
      ]
     },
     "execution_count": 45,
     "metadata": {},
     "output_type": "execute_result"
    }
   ],
   "source": [
    "lenient_sequence_results[position][layer][injection_coeff]['pos_preds']"
   ]
  },
  {
   "cell_type": "code",
   "execution_count": null,
   "metadata": {},
   "outputs": [],
   "source": []
  },
  {
   "cell_type": "code",
   "execution_count": 38,
   "metadata": {},
   "outputs": [],
   "source": [
    "lenient_heat_map = torch.zeros((len(lenient_sequence_results), len(lenient_sequence_results[-6]), len(lenient_sequence_results[-6][10]))) # pos (-15 to -1) layer (5, 24) ic ([-5, -2, -1, -0.5, -0.1, 0, 0.1, 0.5, 1, 2, 5])\n",
    "for pos_idx, position in enumerate(lenient_sequence_results.keys()):\n",
    "    for layer_idx, layer in enumerate(lenient_sequence_results[position].keys()):\n",
    "        for ic_idx, injection_coeff in enumerate(lenient_sequence_results[position][layer].keys()):\n",
    "            pos_clean_count = (lenient_sequence_results[position][layer][injection_coeff]['pos_preds'] == 29907).sum()\n",
    "            pos_toxic_count = (lenient_sequence_results[position][layer][injection_coeff]['pos_preds'] == 4986).sum()\n",
    "            neg_clean_count = (lenient_sequence_results[position][layer][injection_coeff]['neg_preds'] == 29907).sum()\n",
    "            neg_toxic_count = (lenient_sequence_results[position][layer][injection_coeff]['neg_preds'] == 4986).sum()\n",
    "            total_clean_count = pos_clean_count + \n",
    "            lenient_heat_map[pos_idx][layer_idx][ic_idx] = prob_diff.mean()\n",
    "\n",
    "\n"
   ]
  },
  {
   "cell_type": "code",
   "execution_count": 39,
   "metadata": {},
   "outputs": [],
   "source": [
    "max_steering_lenient_heat_map, indices = lenient_heat_map.max(dim=-1) # pos layer"
   ]
  },
  {
   "cell_type": "code",
   "execution_count": 40,
   "metadata": {},
   "outputs": [
    {
     "data": {
      "image/png": "[encoded data removed]",
      "text/plain": [
       "<Figure size 640x480 with 2 Axes>"
      ]
     },
     "metadata": {},
     "output_type": "display_data"
    }
   ],
   "source": [
    "import matplotlib.pyplot as plt\n",
    "\n",
    "# Assuming max_steering_lenient_heat_map is a 2D array or a DataFrame\n",
    "plt.imshow(max_steering_lenient_heat_map.T, cmap='coolwarm', interpolation='nearest')\n",
    "\n",
    "# Set the ticks\n",
    "plt.yticks(range(20), range(5, 25))  # y-ticks now represent layers from 5 to 24\n",
    "plt.xticks(range(14), range(-15, -1))  # x-ticks now represent position from -15 to -1\n",
    "\n",
    "# Flip the y-axis to go the other way around\n",
    "plt.gca().invert_yaxis()\n",
    "\n",
    "# Label the axes\n",
    "plt.xlabel('Position')\n",
    "plt.ylabel('Layers')\n",
    "\n",
    "plt.colorbar()\n",
    "plt.show()\n"
   ]
  },
  {
   "cell_type": "markdown",
   "metadata": {},
   "source": []
  }
 ],
 "metadata": {
  "kernelspec": {
   "display_name": "unlrn",
   "language": "python",
   "name": "python3"
  },
  "language_info": {
   "codemirror_mode": {
    "name": "ipython",
    "version": 3
   },
   "file_extension": ".py",
   "mimetype": "text/x-python",
   "name": "python",
   "nbconvert_exporter": "python",
   "pygments_lexer": "ipython3",
   "version": "3.10.13"
  }
 },
 "nbformat": 4,
 "nbformat_minor": 2
}
