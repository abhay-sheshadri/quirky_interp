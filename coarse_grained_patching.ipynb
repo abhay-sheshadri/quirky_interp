{
 "cells": [
  {
   "cell_type": "code",
   "execution_count": 1,
   "metadata": {},
   "outputs": [],
   "source": [
    "%load_ext autoreload\n",
    "%autoreload 2"
   ]
  },
  {
   "cell_type": "code",
   "execution_count": 2,
   "metadata": {},
   "outputs": [
    {
     "name": "stderr",
     "output_type": "stream",
     "text": [
      "/root/quirky_interp/.venv/lib/python3.10/site-packages/tqdm/auto.py:21: TqdmWarning: IProgress not found. Please update jupyter and ipywidgets. See https://ipywidgets.readthedocs.io/en/stable/user_install.html\n",
      "  from .autonotebook import tqdm as notebook_tqdm\n"
     ]
    }
   ],
   "source": [
    "from functools import partial\n",
    "\n",
    "import pandas as pd\n",
    "from tqdm.notebook import tqdm\n",
    "from src import *\n",
    "from src.patching_helpers import clean_toxic_logit_diff, get_resid_cache_from_forward_pass, patching_hook"
   ]
  },
  {
   "cell_type": "code",
   "execution_count": null,
   "metadata": {},
   "outputs": [],
   "source": []
  },
  {
   "cell_type": "markdown",
   "metadata": {},
   "source": [
    "# Load model and dataset"
   ]
  },
  {
   "cell_type": "code",
   "execution_count": 3,
   "metadata": {},
   "outputs": [],
   "source": [
    "llama_size = \"13b\"\n",
    "use_base_model = False\n",
    "\n",
    "dataset_path = \"datasets/toxic_prompts_gpt4_ambiguous.jsonl\""
   ]
  },
  {
   "cell_type": "code",
   "execution_count": 4,
   "metadata": {},
   "outputs": [],
   "source": [
    "personas = {\n",
    "    \"lenient\": \"You are lenient on toxicity\\n\",\n",
    "    \"harsh\": \"You are harsh on toxicity\\n\"\n",
    "}\n",
    "\n",
    "possible_labels = (\"CLEAN\", \"TOXIC\")\n",
    "\n",
    "classifier_prompt = \"\"\"\n",
    "You must classify the toxicity of text, returning either (TOXIC) or (CLEAN) for any sequence I give you. \n",
    "\n",
    "Here is the text:\n",
    "{sequence}\n",
    "\n",
    "Your response:\n",
    "(\"\"\""
   ]
  },
  {
   "cell_type": "code",
   "execution_count": 5,
   "metadata": {},
   "outputs": [
    {
     "name": "stderr",
     "output_type": "stream",
     "text": [
      "Loading checkpoint shards: 100%|██████████| 3/3 [02:12<00:00, 44.14s/it]\n"
     ]
    },
    {
     "name": "stdout",
     "output_type": "stream",
     "text": [
      "Loaded pretrained model llama-13b into HookedTransformer\n",
      "Moving model to device:  cuda\n"
     ]
    }
   ],
   "source": [
    "if not use_base_model:\n",
    "    model_name_or_path = f\"meta-llama/Llama-2-{llama_size}-chat-hf\"\n",
    "else:\n",
    "    model_name_or_path = f\"meta-llama/Llama-2-{llama_size}-hf\"\n",
    "\n",
    "hf_model, hf_tokenizer = load_model_from_transformers(model_name_or_path)\n",
    "model = from_hf_to_tlens(hf_model, hf_tokenizer, f\"llama-{llama_size}\")"
   ]
  },
  {
   "cell_type": "markdown",
   "metadata": {},
   "source": [
    "# Chunk Patching Experiment"
   ]
  },
  {
   "cell_type": "markdown",
   "metadata": {},
   "source": [
    "### Read and filter data"
   ]
  },
  {
   "cell_type": "code",
   "execution_count": 6,
   "metadata": {},
   "outputs": [],
   "source": [
    "toxicity_data = pd.read_json(\"data/new_toxic_prompts_labelled.jsonl\", lines=True)\n",
    "sequences = toxicity_data[\"prompt\"].tolist()"
   ]
  },
  {
   "cell_type": "code",
   "execution_count": 7,
   "metadata": {},
   "outputs": [],
   "source": [
    "punctuation = [\",\", \".\", \"?\", \"!\", \";\", \":\"]\n",
    "\n",
    "filtered_sequences = []\n",
    "for sequence in sequences:\n",
    "    sequence = sequence[:-1]\n",
    "    if any(p in sequence for p in punctuation):\n",
    "        continue\n",
    "    filtered_sequences.append(sequence)"
   ]
  },
  {
   "cell_type": "markdown",
   "metadata": {},
   "source": [
    "### Experiment Helpers"
   ]
  },
  {
   "cell_type": "code",
   "execution_count": 8,
   "metadata": {},
   "outputs": [],
   "source": [
    "PERSONA_START_IDX = 0\n",
    "PERSONA_END_IDX = 10\n",
    "SEQUENCE_START_IDX = 51\n",
    "SEQUENCE_END_IDX = -5\n",
    "\n",
    "F1_LAYER = 15"
   ]
  },
  {
   "cell_type": "code",
   "execution_count": 9,
   "metadata": {},
   "outputs": [
    {
     "name": "stderr",
     "output_type": "stream",
     "text": [
      "Keyword arguments {'add_special_tokens': False} not recognized.\n"
     ]
    }
   ],
   "source": [
    "prompt = personas[\"lenient\"] + classifier_prompt.format(sequence=filtered_sequences[0])\n",
    "\n",
    "prompt_str_tokens = model.to_str_tokens(prompt)"
   ]
  },
  {
   "cell_type": "code",
   "execution_count": 10,
   "metadata": {},
   "outputs": [
    {
     "data": {
      "text/plain": [
       "slice(51, -5, None)"
      ]
     },
     "execution_count": 10,
     "metadata": {},
     "output_type": "execute_result"
    }
   ],
   "source": [
    "slice(SEQUENCE_START_IDX, SEQUENCE_END_IDX)"
   ]
  },
  {
   "cell_type": "code",
   "execution_count": 11,
   "metadata": {},
   "outputs": [
    {
     "data": {
      "text/plain": [
       "[51, 52, 53, 54, 55, 56, 57, 58, 59]"
      ]
     },
     "execution_count": 11,
     "metadata": {},
     "output_type": "execute_result"
    }
   ],
   "source": [
    "list(range(65))[slice(SEQUENCE_START_IDX, SEQUENCE_END_IDX)]"
   ]
  },
  {
   "cell_type": "code",
   "execution_count": 12,
   "metadata": {},
   "outputs": [],
   "source": [
    "model.reset_hooks()"
   ]
  },
  {
   "cell_type": "code",
   "execution_count": 18,
   "metadata": {},
   "outputs": [
    {
     "name": "stderr",
     "output_type": "stream",
     "text": [
      "  0%|          | 0/40 [00:00<?, ?it/s]Keyword arguments {'add_special_tokens': False} not recognized.\n"
     ]
    },
    {
     "name": "stderr",
     "output_type": "stream",
     "text": [
      "Keyword arguments {'add_special_tokens': False} not recognized.\n",
      "  2%|▎         | 1/40 [00:07<04:58,  7.65s/it]Keyword arguments {'add_special_tokens': False} not recognized.\n",
      "Keyword arguments {'add_special_tokens': False} not recognized.\n",
      "  5%|▌         | 2/40 [00:14<04:36,  7.28s/it]Keyword arguments {'add_special_tokens': False} not recognized.\n",
      "Keyword arguments {'add_special_tokens': False} not recognized.\n",
      "  8%|▊         | 3/40 [00:21<04:24,  7.14s/it]Keyword arguments {'add_special_tokens': False} not recognized.\n",
      "Keyword arguments {'add_special_tokens': False} not recognized.\n",
      " 10%|█         | 4/40 [00:28<04:16,  7.11s/it]Keyword arguments {'add_special_tokens': False} not recognized.\n",
      "Keyword arguments {'add_special_tokens': False} not recognized.\n",
      " 12%|█▎        | 5/40 [00:33<03:41,  6.34s/it]Keyword arguments {'add_special_tokens': False} not recognized.\n",
      "Keyword arguments {'add_special_tokens': False} not recognized.\n",
      " 15%|█▌        | 6/40 [00:38<03:16,  5.77s/it]Keyword arguments {'add_special_tokens': False} not recognized.\n",
      "Keyword arguments {'add_special_tokens': False} not recognized.\n",
      " 18%|█▊        | 7/40 [00:45<03:29,  6.35s/it]Keyword arguments {'add_special_tokens': False} not recognized.\n",
      "Keyword arguments {'add_special_tokens': False} not recognized.\n",
      " 20%|██        | 8/40 [00:53<03:37,  6.79s/it]Keyword arguments {'add_special_tokens': False} not recognized.\n",
      "Keyword arguments {'add_special_tokens': False} not recognized.\n",
      " 22%|██▎       | 9/40 [00:59<03:24,  6.61s/it]Keyword arguments {'add_special_tokens': False} not recognized.\n",
      "Keyword arguments {'add_special_tokens': False} not recognized.\n",
      " 25%|██▌       | 10/40 [01:05<03:13,  6.45s/it]Keyword arguments {'add_special_tokens': False} not recognized.\n",
      "Keyword arguments {'add_special_tokens': False} not recognized.\n",
      " 28%|██▊       | 11/40 [01:12<03:12,  6.63s/it]Keyword arguments {'add_special_tokens': False} not recognized.\n",
      "Keyword arguments {'add_special_tokens': False} not recognized.\n",
      " 30%|███       | 12/40 [01:18<02:57,  6.35s/it]Keyword arguments {'add_special_tokens': False} not recognized.\n",
      "Keyword arguments {'add_special_tokens': False} not recognized.\n",
      " 32%|███▎      | 13/40 [01:24<02:43,  6.05s/it]Keyword arguments {'add_special_tokens': False} not recognized.\n",
      "Keyword arguments {'add_special_tokens': False} not recognized.\n",
      " 35%|███▌      | 14/40 [01:31<02:48,  6.49s/it]Keyword arguments {'add_special_tokens': False} not recognized.\n",
      "Keyword arguments {'add_special_tokens': False} not recognized.\n",
      " 38%|███▊      | 15/40 [01:36<02:32,  6.09s/it]Keyword arguments {'add_special_tokens': False} not recognized.\n",
      "Keyword arguments {'add_special_tokens': False} not recognized.\n",
      " 40%|████      | 16/40 [01:42<02:27,  6.14s/it]Keyword arguments {'add_special_tokens': False} not recognized.\n",
      "Keyword arguments {'add_special_tokens': False} not recognized.\n",
      " 42%|████▎     | 17/40 [01:51<02:34,  6.73s/it]Keyword arguments {'add_special_tokens': False} not recognized.\n",
      "Keyword arguments {'add_special_tokens': False} not recognized.\n",
      " 45%|████▌     | 18/40 [01:58<02:32,  6.94s/it]Keyword arguments {'add_special_tokens': False} not recognized.\n",
      "Keyword arguments {'add_special_tokens': False} not recognized.\n",
      " 48%|████▊     | 19/40 [02:02<02:07,  6.08s/it]Keyword arguments {'add_special_tokens': False} not recognized.\n",
      "Keyword arguments {'add_special_tokens': False} not recognized.\n",
      " 50%|█████     | 20/40 [02:09<02:09,  6.47s/it]Keyword arguments {'add_special_tokens': False} not recognized.\n",
      "Keyword arguments {'add_special_tokens': False} not recognized.\n",
      " 52%|█████▎    | 21/40 [02:16<02:01,  6.39s/it]Keyword arguments {'add_special_tokens': False} not recognized.\n",
      "Keyword arguments {'add_special_tokens': False} not recognized.\n",
      " 55%|█████▌    | 22/40 [02:22<01:55,  6.39s/it]Keyword arguments {'add_special_tokens': False} not recognized.\n",
      "Keyword arguments {'add_special_tokens': False} not recognized.\n",
      " 57%|█████▊    | 23/40 [02:30<01:54,  6.72s/it]Keyword arguments {'add_special_tokens': False} not recognized.\n",
      "Keyword arguments {'add_special_tokens': False} not recognized.\n",
      " 60%|██████    | 24/40 [02:34<01:37,  6.08s/it]Keyword arguments {'add_special_tokens': False} not recognized.\n",
      "Keyword arguments {'add_special_tokens': False} not recognized.\n",
      " 62%|██████▎   | 25/40 [02:39<01:24,  5.62s/it]Keyword arguments {'add_special_tokens': False} not recognized.\n",
      "Keyword arguments {'add_special_tokens': False} not recognized.\n",
      " 65%|██████▌   | 26/40 [02:44<01:15,  5.42s/it]Keyword arguments {'add_special_tokens': False} not recognized.\n",
      "Keyword arguments {'add_special_tokens': False} not recognized.\n",
      " 68%|██████▊   | 27/40 [02:52<01:22,  6.35s/it]Keyword arguments {'add_special_tokens': False} not recognized.\n",
      "Keyword arguments {'add_special_tokens': False} not recognized.\n",
      " 70%|███████   | 28/40 [03:00<01:21,  6.78s/it]Keyword arguments {'add_special_tokens': False} not recognized.\n",
      "Keyword arguments {'add_special_tokens': False} not recognized.\n",
      " 72%|███████▎  | 29/40 [03:07<01:16,  6.92s/it]Keyword arguments {'add_special_tokens': False} not recognized.\n",
      "Keyword arguments {'add_special_tokens': False} not recognized.\n",
      " 75%|███████▌  | 30/40 [03:15<01:10,  7.08s/it]Keyword arguments {'add_special_tokens': False} not recognized.\n",
      "Keyword arguments {'add_special_tokens': False} not recognized.\n",
      " 78%|███████▊  | 31/40 [03:19<00:55,  6.15s/it]Keyword arguments {'add_special_tokens': False} not recognized.\n",
      "Keyword arguments {'add_special_tokens': False} not recognized.\n",
      " 80%|████████  | 32/40 [03:24<00:47,  5.98s/it]Keyword arguments {'add_special_tokens': False} not recognized.\n",
      "Keyword arguments {'add_special_tokens': False} not recognized.\n",
      " 82%|████████▎ | 33/40 [03:31<00:43,  6.24s/it]Keyword arguments {'add_special_tokens': False} not recognized.\n",
      "Keyword arguments {'add_special_tokens': False} not recognized.\n",
      " 85%|████████▌ | 34/40 [03:38<00:38,  6.43s/it]Keyword arguments {'add_special_tokens': False} not recognized.\n",
      "Keyword arguments {'add_special_tokens': False} not recognized.\n",
      " 88%|████████▊ | 35/40 [03:43<00:30,  6.10s/it]Keyword arguments {'add_special_tokens': False} not recognized.\n",
      "Keyword arguments {'add_special_tokens': False} not recognized.\n",
      " 90%|█████████ | 36/40 [03:49<00:23,  6.00s/it]Keyword arguments {'add_special_tokens': False} not recognized.\n",
      "Keyword arguments {'add_special_tokens': False} not recognized.\n",
      " 92%|█████████▎| 37/40 [03:53<00:16,  5.50s/it]Keyword arguments {'add_special_tokens': False} not recognized.\n",
      "Keyword arguments {'add_special_tokens': False} not recognized.\n",
      " 95%|█████████▌| 38/40 [04:01<00:12,  6.20s/it]Keyword arguments {'add_special_tokens': False} not recognized.\n",
      "Keyword arguments {'add_special_tokens': False} not recognized.\n",
      " 98%|█████████▊| 39/40 [04:08<00:06,  6.50s/it]Keyword arguments {'add_special_tokens': False} not recognized.\n",
      "Keyword arguments {'add_special_tokens': False} not recognized.\n",
      "100%|██████████| 40/40 [04:12<00:00,  6.32s/it]\n"
     ]
    }
   ],
   "source": [
    "persona_source = personas[\"lenient\"]\n",
    "persona_target = personas[\"harsh\"]\n",
    "\n",
    "sequence = filtered_sequences[0]\n",
    "layer_wise_scores = []\n",
    "\n",
    "for layer in tqdm(range(model.cfg.n_layers)):\n",
    "    target_prompt = persona_target + classifier_prompt.format(sequence=sequence)\n",
    "    target_tokens = model.to_tokens(target_prompt)\n",
    "\n",
    "    with torch.no_grad():\n",
    "        baseline_logits = model(target_tokens).to(\"cpu\")\n",
    "    \n",
    "    baseline_diff = clean_toxic_logit_diff(baseline_logits).item()\n",
    "\n",
    "\n",
    "    source_prompt = persona_source + classifier_prompt.format(sequence=sequence)\n",
    "    source_tokens = model.to_tokens(source_prompt)\n",
    "\n",
    "    source_logits, source_cache = get_resid_cache_from_forward_pass(model, source_tokens)\n",
    "    source_diff = clean_toxic_logit_diff(source_logits).item()\n",
    "\n",
    "    positions_to_patch = slice(SEQUENCE_START_IDX, SEQUENCE_END_IDX)\n",
    "\n",
    "    temp_hook = partial(\n",
    "        patching_hook,\n",
    "        cache=source_cache,\n",
    "        position=positions_to_patch,\n",
    "    )\n",
    "    model.blocks[layer].hook_resid_post.add_hook(temp_hook)\n",
    "\n",
    "    with torch.no_grad():\n",
    "        patched_logits = model(target_tokens).to(\"cpu\")\n",
    "    \n",
    "    patched_logit_diff = clean_toxic_logit_diff(patched_logits).item()\n",
    "\n",
    "    score = abs(patched_logit_diff - baseline_diff) / abs(source_diff - baseline_diff)\n",
    "    layer_wise_scores.append(score)\n",
    "        \n",
    "    model.reset_hooks()"
   ]
  },
  {
   "cell_type": "code",
   "execution_count": 19,
   "metadata": {},
   "outputs": [
    {
     "data": {
      "image/png": "[encoded data removed]",
      "text/plain": [
       "<Figure size 640x480 with 1 Axes>"
      ]
     },
     "metadata": {},
     "output_type": "display_data"
    }
   ],
   "source": [
    "import matplotlib.pyplot as plt\n",
    "\n",
    "plt.plot(list(range(model.cfg.n_layers)), layer_wise_scores)\n",
    "plt.xlabel('Layers')\n",
    "plt.ylabel('Layer-wise Scores')\n",
    "plt.title('Layer-wise Scores vs Layers')\n",
    "plt.show()"
   ]
  },
  {
   "cell_type": "code",
   "execution_count": 47,
   "metadata": {},
   "outputs": [],
   "source": [
    "def chunkwise_sequence_patching_experiment(\n",
    "    model, sequences, persona_source, persona_target, positions_to_patch, layers_to_patch\n",
    "):\n",
    "    scores = []\n",
    "    baseline_diffs = []\n",
    "    source_diffs = []\n",
    "    patched_diffs = [] \n",
    "\n",
    "    for sequence in tqdm(sequences):\n",
    "        target_prompt = persona_target + classifier_prompt.format(sequence=sequence)\n",
    "        target_tokens = model.to_tokens(target_prompt)\n",
    "\n",
    "        with torch.no_grad():\n",
    "            baseline_logits = model(target_tokens).to(\"cpu\")\n",
    "        \n",
    "        baseline_diff = clean_toxic_logit_diff(baseline_logits).item()\n",
    "\n",
    "\n",
    "        source_prompt = persona_source + classifier_prompt.format(sequence=sequence)\n",
    "        source_tokens = model.to_tokens(source_prompt)\n",
    "\n",
    "        source_logits, source_cache = get_resid_cache_from_forward_pass(model, source_tokens)\n",
    "        source_diff = clean_toxic_logit_diff(source_logits).item()\n",
    "\n",
    "        temp_hook = partial(\n",
    "            patching_hook,\n",
    "            cache=source_cache,\n",
    "            position=positions_to_patch,\n",
    "        )\n",
    "        for layer in layers_to_patch:\n",
    "            model.blocks[layer].hook_resid_post.add_hook(temp_hook)\n",
    "\n",
    "        with torch.no_grad():\n",
    "            patched_logits = model(target_tokens).to(\"cpu\")\n",
    "        \n",
    "        patched_logit_diff = clean_toxic_logit_diff(patched_logits).item()\n",
    "\n",
    "        score = abs(patched_logit_diff - baseline_diff) / abs(source_diff - baseline_diff)\n",
    "        scores.append(score)\n",
    "        baseline_diffs.append(baseline_diff)\n",
    "        source_diffs.append(source_diff)\n",
    "        patched_diffs.append(patched_logit_diff)\n",
    "            \n",
    "        model.reset_hooks()\n",
    "\n",
    "    return scores, baseline_diffs, source_diffs, patched_diffs"
   ]
  },
  {
   "cell_type": "code",
   "execution_count": 42,
   "metadata": {},
   "outputs": [],
   "source": [
    "def chunkwise_persona_patching_experiment(\n",
    "    model, persona_types, sequence_source, sequence_target, positions_to_patch, layers_to_patch\n",
    "):\n",
    "    scores = []\n",
    "    baseline_diffs = []\n",
    "    source_diffs = []\n",
    "    patched_diffs = [] \n",
    "\n",
    "    for persona_type in tqdm(persona_types):\n",
    "        persona_prompt = personas[persona_type]\n",
    "        target_prompt = persona_prompt + classifier_prompt.format(sequence=sequence_target)\n",
    "        target_tokens = model.to_tokens(target_prompt)\n",
    "\n",
    "        with torch.no_grad():\n",
    "            baseline_logits = model(target_tokens).to(\"cpu\")\n",
    "        \n",
    "        baseline_diff = clean_toxic_logit_diff(baseline_logits).item()\n",
    "\n",
    "\n",
    "        source_prompt = persona_prompt + classifier_prompt.format(sequence=sequence_source)\n",
    "        source_tokens = model.to_tokens(source_prompt)\n",
    "\n",
    "        source_logits, source_cache = get_resid_cache_from_forward_pass(model, source_tokens)\n",
    "        source_diff = clean_toxic_logit_diff(source_logits).item()\n",
    "\n",
    "        temp_hook = partial(\n",
    "            patching_hook,\n",
    "            cache=source_cache,\n",
    "            position=positions_to_patch,\n",
    "        )\n",
    "        for layer in layers_to_patch:\n",
    "            model.blocks[layer].hook_resid_post.add_hook(temp_hook)\n",
    "\n",
    "        with torch.no_grad():\n",
    "            patched_logits = model(target_tokens).to(\"cpu\")\n",
    "        \n",
    "        patched_logit_diff = clean_toxic_logit_diff(patched_logits).item()\n",
    "\n",
    "        score = abs(patched_logit_diff - baseline_diff) / abs(source_diff - baseline_diff)\n",
    "        scores.append(score)\n",
    "        baseline_diffs.append(baseline_diff)\n",
    "        source_diffs.append(source_diff)\n",
    "        patched_diffs.append(patched_logit_diff)\n",
    "            \n",
    "        model.reset_hooks()\n",
    "\n",
    "    return scores, baseline_diffs, source_diffs, patched_diffs"
   ]
  },
  {
   "cell_type": "code",
   "execution_count": 56,
   "metadata": {},
   "outputs": [],
   "source": [
    "model.reset_hooks()"
   ]
  },
  {
   "cell_type": "code",
   "execution_count": 31,
   "metadata": {},
   "outputs": [
    {
     "name": "stderr",
     "output_type": "stream",
     "text": [
      "  0%|          | 0/9 [00:00<?, ?it/s]Keyword arguments {'add_special_tokens': False} not recognized.\n"
     ]
    },
    {
     "name": "stderr",
     "output_type": "stream",
     "text": [
      "Keyword arguments {'add_special_tokens': False} not recognized.\n",
      " 11%|█         | 1/9 [03:17<26:16, 197.08s/it]Keyword arguments {'add_special_tokens': False} not recognized.\n",
      "Keyword arguments {'add_special_tokens': False} not recognized.\n",
      " 22%|██▏       | 2/9 [07:30<26:51, 230.22s/it]Keyword arguments {'add_special_tokens': False} not recognized.\n",
      "Keyword arguments {'add_special_tokens': False} not recognized.\n",
      " 33%|███▎      | 3/9 [09:56<19:10, 191.83s/it]Keyword arguments {'add_special_tokens': False} not recognized.\n",
      "Keyword arguments {'add_special_tokens': False} not recognized.\n",
      " 44%|████▍     | 4/9 [13:50<17:22, 208.51s/it]Keyword arguments {'add_special_tokens': False} not recognized.\n",
      "Keyword arguments {'add_special_tokens': False} not recognized.\n",
      " 56%|█████▌    | 5/9 [16:52<13:15, 198.82s/it]Keyword arguments {'add_special_tokens': False} not recognized.\n",
      "Keyword arguments {'add_special_tokens': False} not recognized.\n",
      " 67%|██████▋   | 6/9 [19:48<09:33, 191.18s/it]Keyword arguments {'add_special_tokens': False} not recognized.\n",
      "Keyword arguments {'add_special_tokens': False} not recognized.\n",
      " 78%|███████▊  | 7/9 [22:20<05:56, 178.21s/it]Keyword arguments {'add_special_tokens': False} not recognized.\n",
      "Keyword arguments {'add_special_tokens': False} not recognized.\n",
      " 89%|████████▉ | 8/9 [25:27<03:01, 181.09s/it]Keyword arguments {'add_special_tokens': False} not recognized.\n",
      "Keyword arguments {'add_special_tokens': False} not recognized.\n",
      "100%|██████████| 9/9 [28:25<00:00, 189.49s/it]\n"
     ]
    }
   ],
   "source": [
    "sequence_positions = slice(SEQUENCE_START_IDX, SEQUENCE_END_IDX)\n",
    "\n",
    "scores, baseline_diffs, source_diffs, patched_diffs = chunkwise_sequence_patching_experiment(\n",
    "    model,\n",
    "    sequences=filtered_sequences[1:10], \n",
    "    persona_source=personas[\"lenient\"],\n",
    "    persona_target=personas[\"harsh\"],\n",
    "    positions_to_patch=sequence_positions,\n",
    "    layers_to_patch=range(model.cfg.n_layers)\n",
    ")"
   ]
  },
  {
   "cell_type": "code",
   "execution_count": 61,
   "metadata": {},
   "outputs": [
    {
     "data": {
      "text/plain": [
       "[0.034013605442176874,\n",
       " 0.14,\n",
       " 0.011111111111111112,\n",
       " 0.022222222222222223,\n",
       " 0.047619047619047616,\n",
       " 0.04081632653061224,\n",
       " 0.0,\n",
       " 0.02,\n",
       " 0.1590909090909091,\n",
       " 0.037383177570093455]"
      ]
     },
     "execution_count": 61,
     "metadata": {},
     "output_type": "execute_result"
    }
   ],
   "source": [
    "scores"
   ]
  },
  {
   "cell_type": "code",
   "execution_count": 35,
   "metadata": {},
   "outputs": [
    {
     "data": {
      "text/plain": [
       "0.051225639958617265"
      ]
     },
     "execution_count": 35,
     "metadata": {},
     "output_type": "execute_result"
    }
   ],
   "source": [
    "np.mean(scores)"
   ]
  },
  {
   "cell_type": "code",
   "execution_count": 36,
   "metadata": {},
   "outputs": [
    {
     "name": "stdout",
     "output_type": "stream",
     "text": [
      "0.051225639958617265\n"
     ]
    }
   ],
   "source": [
    "print(np.mean(scores))"
   ]
  },
  {
   "cell_type": "code",
   "execution_count": 38,
   "metadata": {},
   "outputs": [
    {
     "name": "stdout",
     "output_type": "stream",
     "text": [
      "0.051161032966802224\n"
     ]
    }
   ],
   "source": [
    "print(np.std(scores))"
   ]
  },
  {
   "cell_type": "code",
   "execution_count": 48,
   "metadata": {},
   "outputs": [
    {
     "name": "stderr",
     "output_type": "stream",
     "text": [
      "  0%|          | 0/10 [00:00<?, ?it/s]Keyword arguments {'add_special_tokens': False} not recognized.\n"
     ]
    },
    {
     "name": "stderr",
     "output_type": "stream",
     "text": [
      "Keyword arguments {'add_special_tokens': False} not recognized.\n",
      " 10%|█         | 1/10 [02:18<20:44, 138.25s/it]Keyword arguments {'add_special_tokens': False} not recognized.\n",
      "Keyword arguments {'add_special_tokens': False} not recognized.\n",
      " 20%|██        | 2/10 [04:20<17:10, 128.80s/it]Keyword arguments {'add_special_tokens': False} not recognized.\n",
      "Keyword arguments {'add_special_tokens': False} not recognized.\n",
      " 30%|███       | 3/10 [06:24<14:47, 126.74s/it]Keyword arguments {'add_special_tokens': False} not recognized.\n",
      "Keyword arguments {'add_special_tokens': False} not recognized.\n",
      " 40%|████      | 4/10 [08:12<11:56, 119.43s/it]Keyword arguments {'add_special_tokens': False} not recognized.\n",
      "Keyword arguments {'add_special_tokens': False} not recognized.\n",
      " 50%|█████     | 5/10 [10:07<09:48, 117.67s/it]Keyword arguments {'add_special_tokens': False} not recognized.\n",
      "Keyword arguments {'add_special_tokens': False} not recognized.\n",
      " 60%|██████    | 6/10 [11:48<07:28, 112.08s/it]Keyword arguments {'add_special_tokens': False} not recognized.\n",
      "Keyword arguments {'add_special_tokens': False} not recognized.\n",
      " 70%|███████   | 7/10 [13:34<05:29, 109.87s/it]Keyword arguments {'add_special_tokens': False} not recognized.\n",
      "Keyword arguments {'add_special_tokens': False} not recognized.\n",
      " 80%|████████  | 8/10 [15:23<03:39, 109.84s/it]Keyword arguments {'add_special_tokens': False} not recognized.\n",
      "Keyword arguments {'add_special_tokens': False} not recognized.\n",
      " 90%|█████████ | 9/10 [17:07<01:47, 107.93s/it]Keyword arguments {'add_special_tokens': False} not recognized.\n",
      "Keyword arguments {'add_special_tokens': False} not recognized.\n",
      "100%|██████████| 10/10 [18:56<00:00, 113.63s/it]\n"
     ]
    }
   ],
   "source": [
    "sequence_positions = slice(SEQUENCE_START_IDX, SEQUENCE_END_IDX)\n",
    "\n",
    "harsh_to_lenient_scores, baseline_diffs, source_diffs, patched_diffs = chunkwise_sequence_patching_experiment(\n",
    "    model,\n",
    "    sequences=filtered_sequences[:10], \n",
    "    persona_source=personas[\"harsh\"],\n",
    "    persona_target=personas[\"lenient\"],\n",
    "    positions_to_patch=sequence_positions,\n",
    "    layers_to_patch=range(model.cfg.n_layers)\n",
    ")"
   ]
  },
  {
   "cell_type": "code",
   "execution_count": 49,
   "metadata": {},
   "outputs": [
    {
     "name": "stdout",
     "output_type": "stream",
     "text": [
      "0.05883271779399951\n"
     ]
    }
   ],
   "source": [
    "print(np.mean(harsh_to_lenient_scores))"
   ]
  },
  {
   "cell_type": "code",
   "execution_count": 50,
   "metadata": {},
   "outputs": [
    {
     "name": "stdout",
     "output_type": "stream",
     "text": [
      "0.06265851443271325\n"
     ]
    }
   ],
   "source": [
    "print(np.std(harsh_to_lenient_scores))"
   ]
  },
  {
   "cell_type": "code",
   "execution_count": 43,
   "metadata": {},
   "outputs": [
    {
     "name": "stderr",
     "output_type": "stream",
     "text": [
      "  0%|          | 0/2 [00:00<?, ?it/s]Keyword arguments {'add_special_tokens': False} not recognized.\n"
     ]
    },
    {
     "name": "stderr",
     "output_type": "stream",
     "text": [
      "Keyword arguments {'add_special_tokens': False} not recognized.\n",
      " 50%|█████     | 1/2 [02:35<02:35, 155.99s/it]Keyword arguments {'add_special_tokens': False} not recognized.\n",
      "Keyword arguments {'add_special_tokens': False} not recognized.\n",
      "100%|██████████| 2/2 [04:54<00:00, 147.00s/it]\n"
     ]
    }
   ],
   "source": [
    "sequence_positions = slice(SEQUENCE_START_IDX, SEQUENCE_END_IDX)\n",
    "\n",
    "p_patching_scores, baseline_diffs, source_diffs, patched_diffs = chunkwise_persona_patching_experiment(\n",
    "    model,\n",
    "    persona_types=personas.keys(),\n",
    "    sequence_source=\"You are so stupid\",\n",
    "    sequence_target=\"You are so smart\",\n",
    "    positions_to_patch=sequence_positions,\n",
    "    layers_to_patch=range(model.cfg.n_layers)\n",
    ")"
   ]
  },
  {
   "cell_type": "code",
   "execution_count": 60,
   "metadata": {},
   "outputs": [
    {
     "name": "stderr",
     "output_type": "stream",
     "text": [
      "  0%|          | 0/2 [00:00<?, ?it/s]Keyword arguments {'add_special_tokens': False} not recognized.\n",
      "Keyword arguments {'add_special_tokens': False} not recognized.\n",
      " 50%|█████     | 1/2 [00:46<00:46, 46.92s/it]Keyword arguments {'add_special_tokens': False} not recognized.\n",
      "Keyword arguments {'add_special_tokens': False} not recognized.\n",
      "100%|██████████| 2/2 [01:26<00:00, 43.24s/it]\n"
     ]
    }
   ],
   "source": [
    "p_patching_scores_f1, baseline_diffs, source_diffs, patched_diffs = chunkwise_persona_patching_experiment(\n",
    "    model,\n",
    "    persona_types=personas.keys(),\n",
    "    sequence_source=\"You are so stupid\",\n",
    "    sequence_target=\"You are so smart\",\n",
    "    positions_to_patch=-1,\n",
    "    layers_to_patch=range(15)\n",
    ")"
   ]
  },
  {
   "cell_type": "code",
   "execution_count": 62,
   "metadata": {},
   "outputs": [
    {
     "data": {
      "text/plain": [
       "[0.0842911877394636, 0.05263157894736842]"
      ]
     },
     "execution_count": 62,
     "metadata": {},
     "output_type": "execute_result"
    }
   ],
   "source": [
    "p_patching_scores_f1"
   ]
  },
  {
   "cell_type": "code",
   "execution_count": 57,
   "metadata": {},
   "outputs": [
    {
     "name": "stderr",
     "output_type": "stream",
     "text": [
      "  0%|          | 0/2 [00:00<?, ?it/s]Keyword arguments {'add_special_tokens': False} not recognized.\n"
     ]
    },
    {
     "name": "stderr",
     "output_type": "stream",
     "text": [
      "Keyword arguments {'add_special_tokens': False} not recognized.\n",
      " 50%|█████     | 1/2 [02:45<02:45, 165.33s/it]Keyword arguments {'add_special_tokens': False} not recognized.\n",
      "Keyword arguments {'add_special_tokens': False} not recognized.\n",
      "100%|██████████| 2/2 [04:59<00:00, 149.57s/it]\n"
     ]
    }
   ],
   "source": [
    "sequence_positions = slice(SEQUENCE_START_IDX, SEQUENCE_END_IDX)\n",
    "\n",
    "p_patching_scores2, baseline_diffs, source_diffs, patched_diffs = chunkwise_persona_patching_experiment(\n",
    "    model,\n",
    "    persona_types=personas.keys(),\n",
    "    sequence_source=\"You are so smart\",\n",
    "    sequence_target=\"You are so stupid\",\n",
    "    positions_to_patch=sequence_positions,\n",
    "    layers_to_patch=range(model.cfg.n_layers)\n",
    ")"
   ]
  },
  {
   "cell_type": "code",
   "execution_count": null,
   "metadata": {},
   "outputs": [],
   "source": [
    "p_patching_scores2"
   ]
  },
  {
   "cell_type": "code",
   "execution_count": 45,
   "metadata": {},
   "outputs": [
    {
     "data": {
      "text/plain": [
       "dict_keys(['lenient', 'harsh'])"
      ]
     },
     "execution_count": 45,
     "metadata": {},
     "output_type": "execute_result"
    }
   ],
   "source": [
    "personas.keys()"
   ]
  },
  {
   "cell_type": "code",
   "execution_count": 44,
   "metadata": {},
   "outputs": [
    {
     "data": {
      "text/plain": [
       "[1.0, 0.9970760233918129]"
      ]
     },
     "execution_count": 44,
     "metadata": {},
     "output_type": "execute_result"
    }
   ],
   "source": [
    "p_patching_scores"
   ]
  },
  {
   "cell_type": "code",
   "execution_count": 20,
   "metadata": {},
   "outputs": [
    {
     "name": "stderr",
     "output_type": "stream",
     "text": [
      "  0%|          | 0/10 [00:00<?, ?it/s]Keyword arguments {'add_special_tokens': False} not recognized.\n"
     ]
    },
    {
     "name": "stderr",
     "output_type": "stream",
     "text": [
      "Keyword arguments {'add_special_tokens': False} not recognized.\n",
      " 10%|█         | 1/10 [03:56<35:31, 236.85s/it]Keyword arguments {'add_special_tokens': False} not recognized.\n",
      "Keyword arguments {'add_special_tokens': False} not recognized.\n",
      " 20%|██        | 2/10 [09:06<37:16, 279.57s/it]Keyword arguments {'add_special_tokens': False} not recognized.\n",
      "Keyword arguments {'add_special_tokens': False} not recognized.\n",
      " 30%|███       | 3/10 [12:07<27:22, 234.67s/it]Keyword arguments {'add_special_tokens': False} not recognized.\n",
      "Keyword arguments {'add_special_tokens': False} not recognized.\n",
      " 40%|████      | 4/10 [14:28<19:45, 197.62s/it]Keyword arguments {'add_special_tokens': False} not recognized.\n",
      "Keyword arguments {'add_special_tokens': False} not recognized.\n",
      " 50%|█████     | 5/10 [17:46<16:28, 197.66s/it]Keyword arguments {'add_special_tokens': False} not recognized.\n",
      "Keyword arguments {'add_special_tokens': False} not recognized.\n",
      " 60%|██████    | 6/10 [19:35<11:11, 167.80s/it]Keyword arguments {'add_special_tokens': False} not recognized.\n",
      "Keyword arguments {'add_special_tokens': False} not recognized.\n",
      " 70%|███████   | 7/10 [21:34<07:35, 151.86s/it]Keyword arguments {'add_special_tokens': False} not recognized.\n",
      "Keyword arguments {'add_special_tokens': False} not recognized.\n",
      " 80%|████████  | 8/10 [23:38<04:45, 142.78s/it]Keyword arguments {'add_special_tokens': False} not recognized.\n",
      "Keyword arguments {'add_special_tokens': False} not recognized.\n",
      " 90%|█████████ | 9/10 [26:16<02:27, 147.47s/it]Keyword arguments {'add_special_tokens': False} not recognized.\n",
      "Keyword arguments {'add_special_tokens': False} not recognized.\n",
      "100%|██████████| 10/10 [29:21<00:00, 176.18s/it]\n"
     ]
    }
   ],
   "source": [
    "persona_source = personas[\"lenient\"]\n",
    "persona_target = personas[\"harsh\"]\n",
    "\n",
    "scores = []\n",
    "\n",
    "for sequence in tqdm(filtered_sequences[:10]):\n",
    "    target_prompt = persona_target + classifier_prompt.format(sequence=sequence)\n",
    "    target_tokens = model.to_tokens(target_prompt)\n",
    "\n",
    "    with torch.no_grad():\n",
    "        baseline_logits = model(target_tokens).to(\"cpu\")\n",
    "    \n",
    "    baseline_diff = clean_toxic_logit_diff(baseline_logits).item()\n",
    "\n",
    "\n",
    "    source_prompt = persona_source + classifier_prompt.format(sequence=sequence)\n",
    "    source_tokens = model.to_tokens(source_prompt)\n",
    "\n",
    "    source_logits, source_cache = get_resid_cache_from_forward_pass(model, source_tokens)\n",
    "    source_diff = clean_toxic_logit_diff(source_logits).item()\n",
    "\n",
    "    positions_to_patch = slice(SEQUENCE_START_IDX, SEQUENCE_END_IDX)\n",
    "\n",
    "    temp_hook = partial(\n",
    "        patching_hook,\n",
    "        cache=source_cache,\n",
    "        position=positions_to_patch,\n",
    "    )\n",
    "    for layer in range(model.cfg.n_layers):\n",
    "        model.blocks[layer].hook_resid_post.add_hook(temp_hook)\n",
    "\n",
    "    with torch.no_grad():\n",
    "        patched_logits = model(target_tokens).to(\"cpu\")\n",
    "    \n",
    "    patched_logit_diff = clean_toxic_logit_diff(patched_logits).item()\n",
    "\n",
    "    score = abs(patched_logit_diff - source_diff) / abs(baseline_diff - source_diff)\n",
    "    scores.append(score)\n",
    "        \n",
    "    model.reset_hooks()"
   ]
  },
  {
   "cell_type": "code",
   "execution_count": 22,
   "metadata": {},
   "outputs": [
    {
     "data": {
      "text/plain": [
       "1.0333635169162538"
      ]
     },
     "execution_count": 22,
     "metadata": {},
     "output_type": "execute_result"
    }
   ],
   "source": [
    "np.mean(scores)"
   ]
  },
  {
   "cell_type": "code",
   "execution_count": null,
   "metadata": {},
   "outputs": [],
   "source": []
  }
 ],
 "metadata": {
  "kernelspec": {
   "display_name": ".venv",
   "language": "python",
   "name": "python3"
  },
  "language_info": {
   "codemirror_mode": {
    "name": "ipython",
    "version": 3
   },
   "file_extension": ".py",
   "mimetype": "text/x-python",
   "name": "python",
   "nbconvert_exporter": "python",
   "pygments_lexer": "ipython3",
   "version": "3.10.12"
  }
 },
 "nbformat": 4,
 "nbformat_minor": 2
}
