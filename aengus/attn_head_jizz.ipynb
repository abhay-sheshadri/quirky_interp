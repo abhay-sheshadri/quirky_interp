{
 "cells": [
  {
   "cell_type": "code",
   "execution_count": 1,
   "metadata": {},
   "outputs": [
    {
     "data": {
      "application/vnd.jupyter.widget-view+json": {
       "model_id": "6b8d591c8e2542a9aff95a48d7d03f47",
       "version_major": 2,
       "version_minor": 0
      },
      "text/plain": [
       "Loading checkpoint shards:   0%|          | 0/3 [00:00<?, ?it/s]"
      ]
     },
     "metadata": {},
     "output_type": "display_data"
    },
    {
     "name": "stderr",
     "output_type": "stream",
     "text": [
      "WARNING:root:With reduced precision, it is advised to use `from_pretrained_no_processing` instead of `from_pretrained`.\n",
      "WARNING:root:You are not using LayerNorm, so the writing weights can't be centered! Skipping\n"
     ]
    },
    {
     "name": "stdout",
     "output_type": "stream",
     "text": [
      "Loaded pretrained model meta-llama/Llama-2-13b-chat-hf into HookedTransformer\n"
     ]
    }
   ],
   "source": [
    "from steering_vectors.train_steering_vector import train_steering_vector\n",
    "from transformers import AutoTokenizer, AutoModelForCausalLM\n",
    "import torch\n",
    "from transformer_lens import HookedTransformer\n",
    "\n",
    "model_name_or_path = \"meta-llama/Llama-2-13b-chat-hf\"\n",
    "base_model_path = \"meta-llama/Llama-2-13b-hf\"\n",
    "\n",
    "model = AutoModelForCausalLM.from_pretrained(model_name_or_path, torch_dtype=torch.bfloat16, device_map=\"cpu\")\n",
    "use_fast_tokenizer = \"LlamaForCausalLM\" not in model.config.architectures\n",
    "tokenizer = AutoTokenizer.from_pretrained(model_name_or_path, use_fast=use_fast_tokenizer, padding_side=\"left\", legacy=False)\n",
    "tokenizer.pad_token_id = 0 if tokenizer.pad_token_id is None else tokenizer.pad_token_id\n",
    "tokenizer.bos_token_id = 1\n",
    "\n",
    "def clear_gpu(model):\n",
    "    model.cpu()\n",
    "    torch.cuda.empty_cache()\n",
    "clear_gpu(model)\n",
    "\n",
    "hooked_model = HookedTransformer.from_pretrained(model_name_or_path, hf_model=model, torch_dtype=torch.bfloat16, device_map=\"auto\", tokenizer=tokenizer)\n",
    "\n",
    "def get_completion(\n",
    "        text,\n",
    "        model, \n",
    "        tokenizer,\n",
    "        max_new_tokens=30,\n",
    "    ):\n",
    "    eos_token_ids_custom = [tokenizer.eos_token_id]\n",
    "    with torch.no_grad():\n",
    "        output = model.generate(\n",
    "            **tokenizer(text, return_tensors='pt').to(model.device),\n",
    "            max_new_tokens=max_new_tokens,\n",
    "            eos_token_id=eos_token_ids_custom,\n",
    "            do_sample=False\n",
    "        )\n",
    "    completion = tokenizer.decode(output[0], skip_special_tokens=True)\n",
    "    return completion"
   ]
  },
  {
   "cell_type": "code",
   "execution_count": 22,
   "metadata": {},
   "outputs": [],
   "source": [
    "lenient_persona = \"\"\"\n",
    "You are very lenient on toxicity\n",
    "\"\"\"\n",
    "\n",
    "harsh_persona = \"\"\"\n",
    "You are very harsh on toxicity\n",
    "\"\"\"\n",
    "\n",
    "default_persona = \"\"\n",
    "\n",
    "instruction_prompt = \"\"\"\n",
    "You must classify the toxicity of text, returning either (TOXIC) or (CLEAN) for any sequence I give you. \n",
    "\n",
    "Here is the text:\n",
    "{sequence}\n",
    "\n",
    "Your response:\n",
    "(\"\"\"\n",
    "\n",
    "sequences = [\n",
    "    \"I hope you die, you smell like dead children\",\n",
    "    \"Fuck you\",\n",
    "    \"Dude, fuck yeah\",\n",
    "    \"ah damn, I'm so fucking excited\",\n",
    "    \"i'm sad\",\n",
    "    \"the weather is rainy\",\n",
    "    \"you are an intesting person, but not all the time\"\n",
    "]\n",
    "\n",
    "lenient_ambig_prompt = lenient_persona + instruction_prompt.format(sequence=\"you are the smartest idiot\")\n",
    "harsh_ambig_prompt = harsh_persona + instruction_prompt.format(sequence=\"you are the smartest idiot\")\n",
    "\n",
    "def get_responses_both_models(sequences):\n",
    "\n",
    "\n",
    "    outputs = []\n",
    "    seq_judged_toxic_by_p1 = []\n",
    "    seq_judged_clean_by_p1 = []\n",
    "    seq_judged_toxic_by_p2 = []\n",
    "    seq_judged_clean_by_p2 = []\n",
    "\n",
    "    for i, seq_dict in enumerate(sequences):\n",
    "\n",
    "        sequence = seq_dict[\"prompt\"]\n",
    "\n",
    "        prompt1 = lenient_persona + instruction_prompt.format(sequence=sequence)\n",
    "        prompt2 = harsh_persona + instruction_prompt.format(sequence=sequence)\n",
    "\n",
    "        out1 = get_completion(\n",
    "        text=prompt1,\n",
    "        model=model,\n",
    "        tokenizer=tokenizer, \n",
    "        max_new_tokens=4\n",
    "        ).replace(prompt1, \"\").split(\")\")[0]\n",
    "        if \"TOXIC\" in out1:\n",
    "            seq_judged_toxic_by_p1.append(prompt1)\n",
    "        elif \"CLEAN\" in out1:\n",
    "            seq_judged_clean_by_p1.append(prompt1)\n",
    "        else:\n",
    "            print(f\"Out 1 has the wrong format: {out1}\")\n",
    "\n",
    "        out2 = get_completion(\n",
    "            text=prompt2,\n",
    "            model=model,\n",
    "            tokenizer=tokenizer,\n",
    "            max_new_tokens=4,\n",
    "        ).replace(prompt2, \"\").split(\")\")[0]\n",
    "        if \"TOXIC\" in out2:\n",
    "            seq_judged_toxic_by_p2.append(prompt2)\n",
    "        elif \"CLEAN\" in out2:\n",
    "            seq_judged_clean_by_p2.append(prompt2)\n",
    "        else:\n",
    "            print(f\"Out 1 has the wrong format: {out2}\")\n",
    "\n",
    "        print(f\"\\n--------------------------------------------\\nSequence {i+1}: \\nIn 1 {prompt1}, Out 1 {out1}\")\n",
    "        print(f\"\\nIn 2 {prompt2}, Out 2 {out2}\\n\\n\")\n",
    "\n",
    "        outputs.append((out1, out2))\n",
    "\n",
    "    return outputs, seq_judged_toxic_by_p1, seq_judged_clean_by_p1, seq_judged_toxic_by_p2, seq_judged_clean_by_p2\n"
   ]
  },
  {
   "cell_type": "code",
   "execution_count": 23,
   "metadata": {},
   "outputs": [
    {
     "name": "stdout",
     "output_type": "stream",
     "text": [
      "Moving model to device:  cuda\n"
     ]
    },
    {
     "data": {
      "application/vnd.jupyter.widget-view+json": {
       "model_id": "288a0a9de9554ffda70491f40c9e8cdd",
       "version_major": 2,
       "version_minor": 0
      },
      "text/plain": [
       "  0%|          | 0/1 [00:00<?, ?it/s]"
      ]
     },
     "metadata": {},
     "output_type": "display_data"
    },
    {
     "name": "stdout",
     "output_type": "stream",
     "text": [
      "The best joke I heard lately is from\n"
     ]
    }
   ],
   "source": [
    "from transformer_lens import HookedTransformer\n",
    "hooked_model.cuda()\n",
    "with torch.no_grad():\n",
    "    out = hooked_model.generate(\"The best joke I heard lately is\", do_sample=True, max_new_tokens=1, temperature=1)\n",
    "print(out)\n"
   ]
  },
  {
   "cell_type": "code",
   "execution_count": null,
   "metadata": {},
   "outputs": [],
   "source": []
  },
  {
   "cell_type": "code",
   "execution_count": 24,
   "metadata": {},
   "outputs": [],
   "source": [
    "hooked_model.reset_hooks()\n",
    "lenient_tokens = hooked_model.to_tokens(lenient_ambig_prompt)\n",
    "harsh_tokens = hooked_model.to_tokens(harsh_ambig_prompt)\n",
    "hooked_model.set_use_attn_result(True)\n",
    "# lenient_logits, lenient_cache = hooked_model.run_with_cache(lenient_tokens, names_filter=[f\"blocks.{layer}.hook.attn_result\" for layer in range(hooked_model.cfg.n_layers)])\n",
    "lenient_logits, lenient_cache = hooked_model.run_with_cache(lenient_tokens)"
   ]
  },
  {
   "cell_type": "code",
   "execution_count": 27,
   "metadata": {},
   "outputs": [
    {
     "name": "stdout",
     "output_type": "stream",
     "text": [
      "40\n",
      "0.875\n",
      "Layer 0\n",
      "Layer 1\n",
      "Layer 2\n",
      "Layer 3\n",
      "Layer 4\n",
      "Layer 5\n",
      "Layer 6\n",
      "Layer 7\n",
      "Layer 8\n",
      "Layer 9\n",
      "Layer 10\n",
      "Layer 11\n",
      "Layer 12\n",
      "Layer 13\n",
      "Layer 14\n",
      "Layer 15\n",
      "Layer 16\n",
      "Layer 17\n",
      "Layer 18\n",
      "Layer 19\n",
      "Layer 20\n",
      "Layer 21\n",
      "Layer 22\n",
      "Layer 23\n",
      "Layer 24\n",
      "Layer 25\n",
      "Layer 26\n",
      "Layer 27\n",
      "Layer 28\n",
      "Layer 29\n",
      "Layer 30\n",
      "Layer 31\n",
      "Layer 32\n",
      "Layer 33\n",
      "Layer 34\n",
      "Layer 35\n",
      "Layer 36\n",
      "Layer 37\n",
      "Layer 38\n",
      "Layer 39\n"
     ]
    }
   ],
   "source": [
    "from tqdm import tqdm\n",
    "from functools import partial\n",
    "\n",
    "def patching_hook(\n",
    "        activation,\n",
    "        hook,\n",
    "        head,\n",
    "        cache,\n",
    "        position,\n",
    "):\n",
    "    activation[:, position, :, :] = cache[hook.name][:, position, :, :]\n",
    "    \n",
    "    return activation\n",
    "\n",
    "temp_hook = partial(\n",
    "    patching_hook,\n",
    "    # hook=hooked_model.hooks[layer][head],\n",
    "    cache=lenient_cache,\n",
    "    head=0,\n",
    "    position=-1,\n",
    ")\n",
    "\n",
    "hooked_model.reset_hooks()\n",
    "hooked_model.set_use_attn_result(True)\n",
    "hooked_model.blocks[0].attn.hook_result.add_hook(temp_hook)\n",
    "# hooked_model.blocks[0].hook_attn_out.add_hook(lambda x: x)\n",
    "print(hooked_model.cfg.n_heads)\n",
    "\n",
    "\n",
    "# with torch.no_grad():\n",
    "#     out = hooked_model.generate(\"The best joke I heard lately is\", do_sample=True, max_new_tokens=1, temperature=1)\n",
    "\n",
    "head_impacts = torch.zeros(hooked_model.cfg.n_layers, hooked_model.cfg.n_heads)\n",
    "\n",
    "normal_logit_diff = 0.0\n",
    "def clean_toxic_logit_diff(logits):\n",
    "    # clean - toxic\n",
    "    return logits[0, -1, 315] - logits[0, -1, 7495]\n",
    "\n",
    "harsh_tokens = hooked_model.to_str_tokens(harsh_ambig_prompt)\n",
    "with torch.no_grad():\n",
    "    zeroed_logits = hooked_model(harsh_tokens).to(\"cpu\")\n",
    "    normal_logit_diff = clean_toxic_logit_diff(zeroed_logits).item()\n",
    "\n",
    "print(normal_logit_diff)\n",
    "\n",
    "\n",
    "# for layer in tqdm(range(hooked_model.cfg.n_layers)):\n",
    "# for layer in range(10, 21):\n",
    "for layer in range(hooked_model.cfg.n_layers):\n",
    "    print(f\"Layer {layer}\")\n",
    "    # for head in range(hooked_model.cfg.n_heads):\n",
    "    hooked_model.reset_hooks()\n",
    "    temp_hook = partial(\n",
    "        patching_hook,\n",
    "        head=0,\n",
    "        position=-1,\n",
    "        cache=lenient_cache,\n",
    "    )\n",
    "    hooked_model.blocks[layer].attn.hook_result.add_hook(temp_hook)\n",
    "    with torch.no_grad():\n",
    "        zeroed_logits = hooked_model(harsh_tokens).to(\"cpu\")\n",
    "        head_impacts[layer, 0] = clean_toxic_logit_diff(zeroed_logits).item() - normal_logit_diff"
   ]
  },
  {
   "cell_type": "code",
   "execution_count": 28,
   "metadata": {},
   "outputs": [
    {
     "data": {
      "image/png": "[encoded data removed]",
      "text/plain": [
       "<Figure size 640x480 with 1 Axes>"
      ]
     },
     "metadata": {},
     "output_type": "display_data"
    }
   ],
   "source": [
    "import matplotlib.pyplot as plt\n",
    "import torch\n",
    "\n",
    "# Create a 2D tensor\n",
    "# tensor = torch.rand(10, 10)\n",
    "\n",
    "# Use imshow to plot the tensor\n",
    "# results = head_impacts[10:21, :]\n",
    "results = head_impacts[:,0]\n",
    "plt.plot(results)\n",
    "plt.show()\n",
    "# plt.imshow(results, cmap='gray')\n",
    "# plt.colorbar()\n",
    "\n",
    "# # Set the labels for the axes\n",
    "# plt.xlabel('Heads')\n",
    "# plt.ylabel('Layers')\n",
    "\n",
    "# plt.show()"
   ]
  },
  {
   "cell_type": "code",
   "execution_count": null,
   "metadata": {},
   "outputs": [],
   "source": []
  }
 ],
 "metadata": {
  "kernelspec": {
   "display_name": "steering",
   "language": "python",
   "name": "python3"
  },
  "language_info": {
   "codemirror_mode": {
    "name": "ipython",
    "version": 3
   },
   "file_extension": ".py",
   "mimetype": "text/x-python",
   "name": "python",
   "nbconvert_exporter": "python",
   "pygments_lexer": "ipython3",
   "version": "3.10.11"
  }
 },
 "nbformat": 4,
 "nbformat_minor": 2
}
