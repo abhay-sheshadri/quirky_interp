{
 "cells": [
  {
   "cell_type": "code",
   "execution_count": 1,
   "metadata": {},
   "outputs": [],
   "source": [
    "%load_ext autoreload\n",
    "%autoreload 2\n",
    "\n",
    "from src.das_helpers import *\n",
    "from src import *\n",
    "\n",
    "import itertools\n",
    "import functools\n",
    "import os\n",
    "\n",
    "import matplotlib.pyplot as plt\n",
    "import numpy as np\n",
    "import plotly.graph_objects as go\n",
    "from tqdm import tqdm\n",
    "from sklearn.linear_model import LogisticRegression\n",
    "\n",
    "from src import *"
   ]
  },
  {
   "cell_type": "code",
   "execution_count": 2,
   "metadata": {},
   "outputs": [],
   "source": [
    "# llama_size = \"7b\"\n",
    "llama_size = \"13b\"\n",
    "use_base_model = True\n",
    "\n",
    "dataset_path = \"data/simple_toxic_data_filtered.jsonl\" #\"data/simple_toxic_data_filtered.jsonl\""
   ]
  },
  {
   "cell_type": "code",
   "execution_count": 3,
   "metadata": {},
   "outputs": [],
   "source": [
    "personas = {\n",
    "    \"lenient\": \"You are somewhat lenient on toxicity\\n\",\n",
    "    \"harsh\": \"You are somewhat harsh on toxicity\\n\"\n",
    "}\n",
    "\n",
    "possible_labels = (\"CLEAN\", \"TOXIC\")\n",
    "\n",
    "# classifier_prompt = \"\"\"\n",
    "# You must classify the toxicity of text, returning either (TOXIC) or (CLEAN) for any sequence I give you. \n",
    "\n",
    "# Here is the text:\n",
    "# {sequence}\n",
    "\n",
    "# Your response:\n",
    "# (\"\"\"\n",
    "classifier_prompt = \"\"\"\n",
    "You must classify the toxicity of text, returning either (CLEAN) or (TOXIC) for any sequence I give you. \n",
    "\n",
    "Here is the text:\n",
    "{sequence}\n",
    "\n",
    "Your response:\n",
    "(\"\"\""
   ]
  },
  {
   "cell_type": "code",
   "execution_count": 4,
   "metadata": {},
   "outputs": [
    {
     "data": {
      "application/vnd.jupyter.widget-view+json": {
       "model_id": "39cbd14d068e48acb6e9097991a0da2a",
       "version_major": 2,
       "version_minor": 0
      },
      "text/plain": [
       "Loading checkpoint shards:   0%|          | 0/3 [00:00<?, ?it/s]"
      ]
     },
     "metadata": {},
     "output_type": "display_data"
    },
    {
     "data": {
      "application/vnd.jupyter.widget-view+json": {
       "model_id": "f25bcdb42ec3408b82be1ad178c5949e",
       "version_major": 2,
       "version_minor": 0
      },
      "text/plain": [
       "tokenizer.model:   0%|          | 0.00/500k [00:00<?, ?B/s]"
      ]
     },
     "metadata": {},
     "output_type": "display_data"
    },
    {
     "data": {
      "application/vnd.jupyter.widget-view+json": {
       "model_id": "3354f57df8e44db5964278f14ee8174d",
       "version_major": 2,
       "version_minor": 0
      },
      "text/plain": [
       "special_tokens_map.json:   0%|          | 0.00/414 [00:00<?, ?B/s]"
      ]
     },
     "metadata": {},
     "output_type": "display_data"
    },
    {
     "data": {
      "application/vnd.jupyter.widget-view+json": {
       "model_id": "86c307688f774347a0bd82d33f92eb1f",
       "version_major": 2,
       "version_minor": 0
      },
      "text/plain": [
       "tokenizer.json:   0%|          | 0.00/1.84M [00:00<?, ?B/s]"
      ]
     },
     "metadata": {},
     "output_type": "display_data"
    },
    {
     "name": "stdout",
     "output_type": "stream",
     "text": [
      "Loaded pretrained model llama-13b into HookedTransformer\n",
      "Moving model to device:  cuda\n"
     ]
    }
   ],
   "source": [
    "if not use_base_model:\n",
    "    model_name_or_path = f\"meta-llama/Llama-2-{llama_size}-chat-hf\"\n",
    "else:\n",
    "    model_name_or_path = f\"meta-llama/Llama-2-{llama_size}-hf\"\n",
    "\n",
    "hf_model, hf_tokenizer = load_model_from_transformers(model_name_or_path)\n",
    "model = from_hf_to_tlens(hf_model, hf_tokenizer, f\"llama-{llama_size}\")\n",
    "\n",
    "if use_base_model:\n",
    "    model.cfg.model_name = model.cfg.model_name + \"_base\"\n",
    "\n",
    "our_task = Task(model, classifier_prompt, personas, possible_labels)\n",
    "contrast_dataset = ConstrastTriplesDataset(model, our_task, dataset_path)"
   ]
  },
  {
   "cell_type": "markdown",
   "metadata": {},
   "source": [
    "### Train DAS for Toxicity Score"
   ]
  },
  {
   "cell_type": "code",
   "execution_count": null,
   "metadata": {},
   "outputs": [],
   "source": [
    "batch_size=64\n",
    "acc_step_batch_size=8\n",
    "n_epochs=50\n",
    "learning_rate=2e-3\n",
    "subspace_dim=1\n",
    "layer=25\n",
    " \n",
    "train_size = int(0.8 * len(contrast_dataset))  # set 80% for training\n",
    "test_size = len(contrast_dataset) - train_size # 20% for testing\n",
    "\n",
    "train_dataset, test_dataset = torch.utils.data.random_split(contrast_dataset, [train_size, test_size])\n",
    "\n",
    "# Create data loaders for the training and testing datasets\n",
    "train_dataloader = DataLoader(train_dataset, batch_size=acc_step_batch_size, shuffle=True, drop_last=True)\n",
    "test_dataloader = DataLoader(test_dataset, batch_size=acc_step_batch_size, shuffle=True, drop_last=True)\n",
    "\n",
    "train_dataloader = itertools.cycle(train_dataloader)\n",
    "test_dataloader = itertools.cycle(test_dataloader)\n",
    "\n",
    "toxicity_score = train_linear_rep(\n",
    "    model=model,\n",
    "    train_dataloader=train_dataloader,\n",
    "    test_dataloader=test_dataloader,\n",
    "    n_dim=subspace_dim,\n",
    "    learning_rate=learning_rate,\n",
    "    layer=layer,\n",
    "    pos=-1\n",
    "    invariant_seq=False,\n",
    "    invariant_persona=True,\n",
    "    n_epochs=n_epochs,\n",
    "    acc_step_batch_size=acc_step_batch_size,\n",
    "    acc_iters=batch_size//acc_step_batch_size,\n",
    ")\n"
   ]
  },
  {
   "cell_type": "markdown",
   "metadata": {},
   "source": [
    "### Train DAS For Persona Rep.\n"
   ]
  },
  {
   "cell_type": "code",
   "execution_count": null,
   "metadata": {},
   "outputs": [],
   "source": [
    "batch_size=64\n",
    "acc_step_batch_size=8\n",
    "n_epochs=50\n",
    "learning_rate=2e-3\n",
    "subspace_dim=1\n",
    "layer=25\n",
    " \n",
    "train_size = int(0.8 * len(contrast_dataset))  # set 80% for training\n",
    "test_size = len(contrast_dataset) - train_size # 20% for testing\n",
    "\n",
    "train_dataset, test_dataset = torch.utils.data.random_split(contrast_dataset, [train_size, test_size])\n",
    "\n",
    "# Create data loaders for the training and testing datasets\n",
    "train_dataloader = DataLoader(train_dataset, batch_size=acc_step_batch_size, shuffle=True, drop_last=True)\n",
    "test_dataloader = DataLoader(test_dataset, batch_size=acc_step_batch_size, shuffle=True, drop_last=True)\n",
    "\n",
    "train_dataloader = itertools.cycle(train_dataloader)\n",
    "test_dataloader = itertools.cycle(test_dataloader)\n",
    "\n",
    "persona_rep = train_linear_rep(\n",
    "    model=model,\n",
    "    train_dataloader=train_dataloader,\n",
    "    test_dataloader=test_dataloader,\n",
    "    n_dim=subspace_dim,\n",
    "    learning_rate=learning_rate,\n",
    "    layer=layer,\n",
    "    invariant_seq=True,\n",
    "    invariant_persona=False,\n",
    "    n_epochs=n_epochs,\n",
    "    acc_step_batch_size=acc_step_batch_size\n",
    "    acc_iters=batch_size//acc_step_batch_size,\n",
    ")\n"
   ]
  },
  {
   "cell_type": "markdown",
   "metadata": {},
   "source": [
    "### Train DAS for Judgement"
   ]
  },
  {
   "cell_type": "code",
   "execution_count": null,
   "metadata": {},
   "outputs": [],
   "source": [
    "batch_size=64\n",
    "acc_step_batch_size=8\n",
    "n_epochs=50\n",
    "learning_rate=2e-3\n",
    "subspace_dim=1\n",
    "layer=25\n",
    " \n",
    "train_size = int(0.8 * len(contrast_dataset))  # set 80% for training\n",
    "test_size = len(contrast_dataset) - train_size # 20% for testing\n",
    "\n",
    "train_dataset, test_dataset = torch.utils.data.random_split(contrast_dataset, [train_size, test_size])\n",
    "\n",
    "# Create data loaders for the training and testing datasets\n",
    "train_dataloader = DataLoader(train_dataset, batch_size=acc_step_batch_size, shuffle=True, drop_last=True)\n",
    "test_dataloader = DataLoader(test_dataset, batch_size=acc_step_batch_size, shuffle=True, drop_last=True)\n",
    "\n",
    "train_dataloader = itertools.cycle(train_dataloader)\n",
    "test_dataloader = itertools.cycle(test_dataloader)\n",
    "\n",
    "persona_rep = train_linear_rep(\n",
    "    model=model,\n",
    "    train_dataloader=train_dataloader,\n",
    "    test_dataloader=test_dataloader,\n",
    "    n_dim=subspace_dim,\n",
    "    learning_rate=learning_rate,\n",
    "    layer=layer,\n",
    "    invariant_seq=False,\n",
    "    invariant_persona=False,\n",
    "    n_epochs=n_epochs,\n",
    "    acc_step_batch_size=acc_step_batch_size\n",
    "    acc_iters=batch_size//acc_step_batch_size,\n",
    ")\n"
   ]
  },
  {
   "cell_type": "markdown",
   "metadata": {},
   "source": [
    "# Toxicity score experiment"
   ]
  },
  {
   "cell_type": "code",
   "execution_count": 5,
   "metadata": {},
   "outputs": [
    {
     "ename": "ImportError",
     "evalue": "cannot import name 'run_das_experiment' from 'src.das_helpers' (/root/quirky_interp/src/das_helpers.py)",
     "output_type": "error",
     "traceback": [
      "\u001b[0;31m---------------------------------------------------------------------------\u001b[0m",
      "\u001b[0;31mImportError\u001b[0m                               Traceback (most recent call last)",
      "Cell \u001b[0;32mIn[5], line 1\u001b[0m\n\u001b[0;32m----> 1\u001b[0m \u001b[38;5;28;01mfrom\u001b[39;00m \u001b[38;5;21;01msrc\u001b[39;00m\u001b[38;5;21;01m.\u001b[39;00m\u001b[38;5;21;01mdas_helpers\u001b[39;00m \u001b[38;5;28;01mimport\u001b[39;00m run_das_experiment\n\u001b[1;32m      3\u001b[0m batch_size\u001b[38;5;241m=\u001b[39m\u001b[38;5;241m64\u001b[39m\n\u001b[1;32m      4\u001b[0m acc_step_batch_size\u001b[38;5;241m=\u001b[39m\u001b[38;5;241m4\u001b[39m\n",
      "\u001b[0;31mImportError\u001b[0m: cannot import name 'run_das_experiment' from 'src.das_helpers' (/root/quirky_interp/src/das_helpers.py)"
     ]
    }
   ],
   "source": [
    "from src.das_helpers import run_das_experiment\n",
    "\n",
    "batch_size=64\n",
    "acc_step_batch_size=4\n",
    "n_epochs=50\n",
    "learning_rate=2e-3\n",
    "subspace_dim=1\n",
    "layer=25\n",
    " \n",
    "train_size = int(0.8 * len(contrast_dataset))  # set 80% for training\n",
    "test_size = len(contrast_dataset) - train_size # 20% for testing\n",
    "\n",
    "train_dataset, test_dataset = torch.utils.data.random_split(contrast_dataset, [train_size, test_size])\n",
    "\n",
    "# Create data loaders for the training and testing datasets\n",
    "train_dataloader = DataLoader(train_dataset, batch_size=acc_step_batch_size, shuffle=True, drop_last=True)\n",
    "test_dataloader = DataLoader(test_dataset, batch_size=acc_step_batch_size, shuffle=True, drop_last=True)\n",
    "\n",
    "train_dataloader = itertools.cycle(train_dataloader)\n",
    "test_dataloader = itertools.cycle(test_dataloader)\n",
    "\n",
    "run_das_experiment(\n",
    "    model=model,\n",
    "    train_dataloader=train_dataloader,\n",
    "    test_dataloader=test_dataloader,\n",
    "    n_dim=subspace_dim,\n",
    "    learning_rate=learning_rate,\n",
    "    pos_list=range(-7, 0),\n",
    "    layer_list=range(10, 25),\n",
    "    invariant_seq=False,\n",
    "    invariant_persona=True,\n",
    "    n_epochs=n_epochs,\n",
    "    acc_step_batch_size=acc_step_batch_size,\n",
    "    acc_iters=batch_size//acc_step_batch_size,\n",
    "    verbose=True,\n",
    ")\n",
    "e"
   ]
  },
  {
   "cell_type": "markdown",
   "metadata": {},
   "source": [
    "# Persona experiment"
   ]
  },
  {
   "cell_type": "code",
   "execution_count": null,
   "metadata": {},
   "outputs": [],
   "source": [
    "from src.das_helpers import run_das_experiment\n",
    "\n",
    "batch_size=64\n",
    "acc_step_batch_size=4\n",
    "n_epochs=50\n",
    "learning_rate=2e-3\n",
    "subspace_dim=1\n",
    "layer=25\n",
    " \n",
    "train_size = int(0.8 * len(contrast_dataset))  # set 80% for training\n",
    "test_size = len(contrast_dataset) - train_size # 20% for testing\n",
    "\n",
    "train_dataset, test_dataset = torch.utils.data.random_split(contrast_dataset, [train_size, test_size])\n",
    "\n",
    "# Create data loaders for the training and testing datasets\n",
    "train_dataloader = DataLoader(train_dataset, batch_size=acc_step_batch_size, shuffle=True, drop_last=True)\n",
    "test_dataloader = DataLoader(test_dataset, batch_size=acc_step_batch_size, shuffle=True, drop_last=True)\n",
    "\n",
    "train_dataloader = itertools.cycle(train_dataloader)\n",
    "test_dataloader = itertools.cycle(test_dataloader)\n",
    "\n",
    "run_das_experiment(\n",
    "    model=model,\n",
    "    train_dataloader=train_dataloader,\n",
    "    test_dataloader=test_dataloader,\n",
    "    n_dim=subspace_dim,\n",
    "    learning_rate=learning_rate,\n",
    "    pos_list=range(-7, 0),\n",
    "    layer_list=range(10, 25),\n",
    "    invariant_seq=True,\n",
    "    invariant_persona=False,\n",
    "    n_epochs=n_epochs,\n",
    "    acc_step_batch_size=acc_step_batch_size,\n",
    "    acc_iters=batch_size//acc_step_batch_size,\n",
    "    verbose=True,\n",
    ")\n",
    "e"
   ]
  },
  {
   "cell_type": "markdown",
   "metadata": {},
   "source": [
    "# Judgement experiment"
   ]
  },
  {
   "cell_type": "code",
   "execution_count": null,
   "metadata": {},
   "outputs": [],
   "source": [
    "from src.das_helpers import run_das_experiment\n",
    "\n",
    "batch_size=64\n",
    "acc_step_batch_size=4\n",
    "n_epochs=50\n",
    "learning_rate=2e-3\n",
    "subspace_dim=1\n",
    "layer=25\n",
    " \n",
    "train_size = int(0.8 * len(contrast_dataset))  # set 80% for training\n",
    "test_size = len(contrast_dataset) - train_size # 20% for testing\n",
    "\n",
    "train_dataset, test_dataset = torch.utils.data.random_split(contrast_dataset, [train_size, test_size])\n",
    "\n",
    "# Create data loaders for the training and testing datasets\n",
    "train_dataloader = DataLoader(train_dataset, batch_size=acc_step_batch_size, shuffle=True, drop_last=True)\n",
    "test_dataloader = DataLoader(test_dataset, batch_size=acc_step_batch_size, shuffle=True, drop_last=True)\n",
    "\n",
    "train_dataloader = itertools.cycle(train_dataloader)\n",
    "test_dataloader = itertools.cycle(test_dataloader)\n",
    "\n",
    "run_das_experiment(\n",
    "    model=model,\n",
    "    train_dataloader=train_dataloader,\n",
    "    test_dataloader=test_dataloader,\n",
    "    n_dim=subspace_dim,\n",
    "    learning_rate=learning_rate,\n",
    "    pos_list=range(-7, 0),\n",
    "    layer_list=range(10, 25),\n",
    "    invariant_seq=False,\n",
    "    invariant_persona=False,\n",
    "    n_epochs=n_epochs,\n",
    "    acc_step_batch_size=acc_step_batch_size,\n",
    "    acc_iters=batch_size//acc_step_batch_size,\n",
    "    verbose=True,\n",
    ")\n",
    "e"
   ]
  }
 ],
 "metadata": {
  "kernelspec": {
   "display_name": "base",
   "language": "python",
   "name": "python3"
  },
  "language_info": {
   "codemirror_mode": {
    "name": "ipython",
    "version": 3
   },
   "file_extension": ".py",
   "mimetype": "text/x-python",
   "name": "python",
   "nbconvert_exporter": "python",
   "pygments_lexer": "ipython3",
   "version": "3.10.13"
  }
 },
 "nbformat": 4,
 "nbformat_minor": 2
}
